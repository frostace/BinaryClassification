{
 "cells": [
  {
   "cell_type": "code",
   "execution_count": 5,
   "metadata": {},
   "outputs": [],
   "source": [
    "# Import lib\n",
    "# ===========================================================\n",
    "import csv\n",
    "import pandas as pd\n",
    "import numpy as np\n",
    "import random\n",
    "import time\n",
    "import collections\n",
    "import math\n",
    "import sys\n",
    "from tqdm import tqdm\n",
    "from time import sleep\n",
    "\n",
    "import matplotlib.pyplot as plt\n",
    "# %matplotlib inline\n",
    "plt.style.use('fivethirtyeight')\n",
    "\n",
    "from datascience import *\n",
    "from scipy import stats\n",
    "\n",
    "import statsmodels.formula.api as smf\n",
    "import statsmodels.api as sm\n",
    "# from statsmodels.genmod.families.links import logit\n",
    "from sklearn.linear_model import LogisticRegression\n",
    "from sklearn.preprocessing import StandardScaler\n",
    "from sklearn.model_selection import train_test_split\n",
    "from sklearn.metrics import classification_report, confusion_matrix, accuracy_score, roc_auc_score, roc_curve"
   ]
  },
  {
   "cell_type": "code",
   "execution_count": 2,
   "metadata": {},
   "outputs": [
    {
     "data": {
      "text/html": [
       "<div>\n",
       "<style scoped>\n",
       "    .dataframe tbody tr th:only-of-type {\n",
       "        vertical-align: middle;\n",
       "    }\n",
       "\n",
       "    .dataframe tbody tr th {\n",
       "        vertical-align: top;\n",
       "    }\n",
       "\n",
       "    .dataframe thead th {\n",
       "        text-align: right;\n",
       "    }\n",
       "</style>\n",
       "<table border=\"1\" class=\"dataframe\">\n",
       "  <thead>\n",
       "    <tr style=\"text-align: right;\">\n",
       "      <th></th>\n",
       "      <th>CHROM</th>\n",
       "      <th>POS</th>\n",
       "      <th>REF</th>\n",
       "      <th>ALT</th>\n",
       "      <th>AF_ESP</th>\n",
       "      <th>AF_EXAC</th>\n",
       "      <th>AF_TGP</th>\n",
       "      <th>CLNDISDB</th>\n",
       "      <th>CLNDN</th>\n",
       "      <th>CLNHGVS</th>\n",
       "      <th>...</th>\n",
       "      <th>Codons</th>\n",
       "      <th>STRAND</th>\n",
       "      <th>BAM_EDIT</th>\n",
       "      <th>SIFT</th>\n",
       "      <th>PolyPhen</th>\n",
       "      <th>LoFtool</th>\n",
       "      <th>CADD_PHRED</th>\n",
       "      <th>CADD_RAW</th>\n",
       "      <th>BLOSUM62</th>\n",
       "      <th>CLASS</th>\n",
       "    </tr>\n",
       "  </thead>\n",
       "  <tbody>\n",
       "    <tr>\n",
       "      <th>42185</th>\n",
       "      <td>13</td>\n",
       "      <td>32972674</td>\n",
       "      <td>G</td>\n",
       "      <td>A</td>\n",
       "      <td>0.0000</td>\n",
       "      <td>0.00000</td>\n",
       "      <td>0.000</td>\n",
       "      <td>MedGen:C0027672,SNOMED_CT:699346009|MedGen:C06...</td>\n",
       "      <td>Hereditary_cancer-predisposing_syndrome|Heredi...</td>\n",
       "      <td>NC_000013.10:g.32972674G&gt;A</td>\n",
       "      <td>...</td>\n",
       "      <td>Gaa/Aaa</td>\n",
       "      <td>1.0</td>\n",
       "      <td>OK</td>\n",
       "      <td>deleterious</td>\n",
       "      <td>probably_damaging</td>\n",
       "      <td>0.089600</td>\n",
       "      <td>35.000</td>\n",
       "      <td>7.663284</td>\n",
       "      <td>1.0</td>\n",
       "      <td>1</td>\n",
       "    </tr>\n",
       "    <tr>\n",
       "      <th>14478</th>\n",
       "      <td>3</td>\n",
       "      <td>46021218</td>\n",
       "      <td>G</td>\n",
       "      <td>T</td>\n",
       "      <td>0.0000</td>\n",
       "      <td>0.00000</td>\n",
       "      <td>0.000</td>\n",
       "      <td>Human_Phenotype_Ontology:HP:0000519,MedGen:C18...</td>\n",
       "      <td>Congenital_cataract|not_specified</td>\n",
       "      <td>NC_000003.11:g.46021218G&gt;T</td>\n",
       "      <td>...</td>\n",
       "      <td>cgC/cgA</td>\n",
       "      <td>-1.0</td>\n",
       "      <td>0</td>\n",
       "      <td>0</td>\n",
       "      <td>0</td>\n",
       "      <td>0.913000</td>\n",
       "      <td>8.215</td>\n",
       "      <td>0.608492</td>\n",
       "      <td>0.0</td>\n",
       "      <td>0</td>\n",
       "    </tr>\n",
       "    <tr>\n",
       "      <th>57378</th>\n",
       "      <td>19</td>\n",
       "      <td>11097684</td>\n",
       "      <td>G</td>\n",
       "      <td>A</td>\n",
       "      <td>0.0000</td>\n",
       "      <td>0.00000</td>\n",
       "      <td>0.000</td>\n",
       "      <td>MedGen:C0027672,SNOMED_CT:699346009|MedGen:C27...</td>\n",
       "      <td>Hereditary_cancer-predisposing_syndrome|Rhabdo...</td>\n",
       "      <td>NC_000019.9:g.11097684G&gt;A</td>\n",
       "      <td>...</td>\n",
       "      <td>0</td>\n",
       "      <td>1.0</td>\n",
       "      <td>0</td>\n",
       "      <td>0</td>\n",
       "      <td>0</td>\n",
       "      <td>0.000689</td>\n",
       "      <td>3.738</td>\n",
       "      <td>0.112129</td>\n",
       "      <td>0.0</td>\n",
       "      <td>0</td>\n",
       "    </tr>\n",
       "    <tr>\n",
       "      <th>8799</th>\n",
       "      <td>2</td>\n",
       "      <td>179398747</td>\n",
       "      <td>T</td>\n",
       "      <td>C</td>\n",
       "      <td>0.0015</td>\n",
       "      <td>0.00425</td>\n",
       "      <td>0.006</td>\n",
       "      <td>MedGen:C1837342,OMIM:608807,Orphanet:ORPHA1409...</td>\n",
       "      <td>Limb-girdle_muscular_dystrophy,_type_2J|Dilate...</td>\n",
       "      <td>NC_000002.11:g.179398747T&gt;C</td>\n",
       "      <td>...</td>\n",
       "      <td>Att/Gtt</td>\n",
       "      <td>-1.0</td>\n",
       "      <td>0</td>\n",
       "      <td>0</td>\n",
       "      <td>0</td>\n",
       "      <td>0.971000</td>\n",
       "      <td>13.090</td>\n",
       "      <td>1.457148</td>\n",
       "      <td>3.0</td>\n",
       "      <td>1</td>\n",
       "    </tr>\n",
       "    <tr>\n",
       "      <th>40542</th>\n",
       "      <td>13</td>\n",
       "      <td>32906411</td>\n",
       "      <td>T</td>\n",
       "      <td>C</td>\n",
       "      <td>0.0000</td>\n",
       "      <td>0.00004</td>\n",
       "      <td>0.000</td>\n",
       "      <td>MedGen:C0027672,SNOMED_CT:699346009|MedGen:C06...</td>\n",
       "      <td>Hereditary_cancer-predisposing_syndrome|Heredi...</td>\n",
       "      <td>NC_000013.10:g.32906411T&gt;C</td>\n",
       "      <td>...</td>\n",
       "      <td>Ttt/Ctt</td>\n",
       "      <td>1.0</td>\n",
       "      <td>OK</td>\n",
       "      <td>tolerated</td>\n",
       "      <td>benign</td>\n",
       "      <td>0.089600</td>\n",
       "      <td>0.006</td>\n",
       "      <td>-1.222743</td>\n",
       "      <td>0.0</td>\n",
       "      <td>1</td>\n",
       "    </tr>\n",
       "  </tbody>\n",
       "</table>\n",
       "<p>5 rows × 37 columns</p>\n",
       "</div>"
      ],
      "text/plain": [
       "      CHROM        POS REF ALT  AF_ESP  AF_EXAC  AF_TGP  \\\n",
       "42185    13   32972674   G   A  0.0000  0.00000   0.000   \n",
       "14478     3   46021218   G   T  0.0000  0.00000   0.000   \n",
       "57378    19   11097684   G   A  0.0000  0.00000   0.000   \n",
       "8799      2  179398747   T   C  0.0015  0.00425   0.006   \n",
       "40542    13   32906411   T   C  0.0000  0.00004   0.000   \n",
       "\n",
       "                                                CLNDISDB  \\\n",
       "42185  MedGen:C0027672,SNOMED_CT:699346009|MedGen:C06...   \n",
       "14478  Human_Phenotype_Ontology:HP:0000519,MedGen:C18...   \n",
       "57378  MedGen:C0027672,SNOMED_CT:699346009|MedGen:C27...   \n",
       "8799   MedGen:C1837342,OMIM:608807,Orphanet:ORPHA1409...   \n",
       "40542  MedGen:C0027672,SNOMED_CT:699346009|MedGen:C06...   \n",
       "\n",
       "                                                   CLNDN  \\\n",
       "42185  Hereditary_cancer-predisposing_syndrome|Heredi...   \n",
       "14478                  Congenital_cataract|not_specified   \n",
       "57378  Hereditary_cancer-predisposing_syndrome|Rhabdo...   \n",
       "8799   Limb-girdle_muscular_dystrophy,_type_2J|Dilate...   \n",
       "40542  Hereditary_cancer-predisposing_syndrome|Heredi...   \n",
       "\n",
       "                           CLNHGVS  ...   Codons STRAND BAM_EDIT         SIFT  \\\n",
       "42185   NC_000013.10:g.32972674G>A  ...  Gaa/Aaa    1.0       OK  deleterious   \n",
       "14478   NC_000003.11:g.46021218G>T  ...  cgC/cgA   -1.0        0            0   \n",
       "57378    NC_000019.9:g.11097684G>A  ...        0    1.0        0            0   \n",
       "8799   NC_000002.11:g.179398747T>C  ...  Att/Gtt   -1.0        0            0   \n",
       "40542   NC_000013.10:g.32906411T>C  ...  Ttt/Ctt    1.0       OK    tolerated   \n",
       "\n",
       "                PolyPhen   LoFtool CADD_PHRED  CADD_RAW BLOSUM62 CLASS  \n",
       "42185  probably_damaging  0.089600     35.000  7.663284      1.0     1  \n",
       "14478                  0  0.913000      8.215  0.608492      0.0     0  \n",
       "57378                  0  0.000689      3.738  0.112129      0.0     0  \n",
       "8799                   0  0.971000     13.090  1.457148      3.0     1  \n",
       "40542             benign  0.089600      0.006 -1.222743      0.0     1  \n",
       "\n",
       "[5 rows x 37 columns]"
      ]
     },
     "execution_count": 2,
     "metadata": {},
     "output_type": "execute_result"
    }
   ],
   "source": [
    "# Initialize useful data\n",
    "# ===========================================================\n",
    "df = pd.read_csv('clinvar_conflicting_clean.csv', low_memory=False)\n",
    "df = df.fillna(value=0)\n",
    "\n",
    "# resample to get a balanced dataset\n",
    "df_zero = df.loc[df['CLASS'] == 0]\n",
    "df_zero = df_zero.sample(n=1000)\n",
    "df_one = df.loc[df['CLASS'] == 1]\n",
    "df_one = df_one.sample(n=1000)\n",
    "\n",
    "# concatenate and reallocate all data\n",
    "df = pd.concat([df_zero, df_one])\n",
    "df = df.sample(n = df.shape[0])\n",
    "all_rows = df.values.tolist()\n",
    "row_num = len(all_rows)\n",
    "df.head()"
   ]
  },
  {
   "cell_type": "code",
   "execution_count": 3,
   "metadata": {},
   "outputs": [],
   "source": [
    "# Divide whole dataset into Input and Output\n",
    "# ===========================================================\n",
    "# Features - all columns except 'CLASS'\n",
    "# Target label - 'CLASS' column\n",
    "X = df.drop('CLASS', axis=1)\n",
    "y = df['CLASS']\n",
    "\n",
    "# One hot encoding\n",
    "X = pd.get_dummies(X, drop_first=True)\n",
    "y = pd.get_dummies(y, drop_first=True)\n",
    "\n",
    "# Train/Test split\n",
    "train_X, test_X, train_y, test_y = train_test_split(X, y)\n",
    "\n",
    "# Normalize using StandardScaler\n",
    "scaler = StandardScaler()\n",
    "train_X = scaler.fit_transform(train_X)\n",
    "test_X = scaler.transform(test_X)"
   ]
  },
  {
   "cell_type": "code",
   "execution_count": 20,
   "metadata": {},
   "outputs": [
    {
     "name": "stderr",
     "output_type": "stream",
     "text": [
      "/Users/frostace/anaconda3/lib/python3.7/site-packages/sklearn/linear_model/logistic.py:432: FutureWarning: Default solver will be changed to 'lbfgs' in 0.22. Specify a solver to silence this warning.\n",
      "  FutureWarning)\n",
      "/Users/frostace/anaconda3/lib/python3.7/site-packages/sklearn/utils/validation.py:724: DataConversionWarning: A column-vector y was passed when a 1d array was expected. Please change the shape of y to (n_samples, ), for example using ravel().\n",
      "  y = column_or_1d(y, warn=True)\n"
     ]
    },
    {
     "name": "stdout",
     "output_type": "stream",
     "text": [
      "Logistic Regression Model Trained! Time: 1.405s\n"
     ]
    }
   ],
   "source": [
    "# Train Model\n",
    "# ===========================================================\n",
    "model = LogisticRegression()\n",
    "\n",
    "start = time.time()\n",
    "\n",
    "model.fit(train_X, train_y)\n",
    "pred_y = model.predict(test_X)\n",
    "score = accuracy_score(test_y, pred_y)\n",
    "\n",
    "end = time.time()\n",
    "print(\"Logistic Regression Model Trained! Time: %.03fs\" % (end - start))"
   ]
  },
  {
   "cell_type": "code",
   "execution_count": 45,
   "metadata": {},
   "outputs": [],
   "source": [
    "# Compare Actual label and Predicted label\n",
    "# ===========================================================\n",
    "pred_score = model.predict_proba(test_X)\n",
    "fpr, tpr, thresholds = roc_curve(test_y, pred_score[:,1])\n",
    "final = Table().with_column('IDX', [i for i in range(len(pred_score))])\n",
    "final = final.with_columns('ACT_CLASS', test_y.transpose().values.tolist()[0], 'PRE_CLASS', pred_score[:, 1])"
   ]
  },
  {
   "cell_type": "code",
   "execution_count": 46,
   "metadata": {},
   "outputs": [
    {
     "data": {
      "text/html": [
       "<table border=\"1\" class=\"dataframe\">\n",
       "    <thead>\n",
       "        <tr>\n",
       "            <th>IDX</th> <th>ACT_CLASS</th> <th>PRE_CLASS</th>\n",
       "        </tr>\n",
       "    </thead>\n",
       "    <tbody>\n",
       "        <tr>\n",
       "            <td>0   </td> <td>0        </td> <td>0.756444 </td>\n",
       "        </tr>\n",
       "        <tr>\n",
       "            <td>1   </td> <td>1        </td> <td>0.0667976</td>\n",
       "        </tr>\n",
       "        <tr>\n",
       "            <td>2   </td> <td>0        </td> <td>0.112982 </td>\n",
       "        </tr>\n",
       "        <tr>\n",
       "            <td>3   </td> <td>0        </td> <td>0.981729 </td>\n",
       "        </tr>\n",
       "        <tr>\n",
       "            <td>4   </td> <td>0        </td> <td>0.897907 </td>\n",
       "        </tr>\n",
       "    </tbody>\n",
       "</table>\n",
       "<p>... (495 rows omitted)</p>"
      ],
      "text/plain": [
       "<IPython.core.display.HTML object>"
      ]
     },
     "metadata": {},
     "output_type": "display_data"
    }
   ],
   "source": [
    "final.show(5)"
   ]
  },
  {
   "cell_type": "code",
   "execution_count": 47,
   "metadata": {},
   "outputs": [
    {
     "name": "stderr",
     "output_type": "stream",
     "text": [
      "/Users/frostace/anaconda3/lib/python3.7/site-packages/ipykernel_launcher.py:29: RuntimeWarning: invalid value encountered in long_scalars\n"
     ]
    }
   ],
   "source": [
    "# Compute TN, TP, FN, FP, etc.\n",
    "# ===========================================================\n",
    "ROC = Table(make_array('CUTOFF', 'TN', 'FN', 'FP', 'TP', 'ACC'))\n",
    "step_size = 0.05\n",
    "for cutoff in np.arange(0, 1 + step_size, step_size):\n",
    "    temp_final = final.with_column('INDICATE', final.apply(lambda x, y: (int(x >= cutoff) << 1) + y, 'PRE_CLASS', 'ACT_CLASS'))\n",
    "    # 00(0) -> TN\n",
    "    # 01(1) -> FN\n",
    "    # 10(2) -> FP\n",
    "    # 11(3) -> TP\n",
    "    group = temp_final.group('INDICATE')\n",
    "    indicator = group.column(0)\n",
    "    counts = group.column(1)\n",
    "#     print(indicator, counts)\n",
    "    output = [cutoff]\n",
    "    idx = 0\n",
    "    for i in range(4):\n",
    "#         print(counts[idx])\n",
    "        if i in indicator:\n",
    "            output.append(counts[idx])\n",
    "            idx += 1\n",
    "        else:\n",
    "            output.append(0)\n",
    "    acc = (output[1] + output[4]) / sum(output[1:])\n",
    "    output.append(acc)\n",
    "    ROC = ROC.with_row(output)\n",
    "ROC = ROC.with_columns('SENSITIVITY', ROC.apply(lambda TP, FN: TP / (TP + FN + 0.00000001), 'TP', 'FN'))\n",
    "ROC = ROC.with_columns('FPR', ROC.apply(lambda TN, FP: FP / (TN + FP + 0.00000001), 'TN', 'FP'))\n",
    "ROC = ROC.with_column('FMEAS', ROC.apply(lambda TP, FP, FN: 2 * (TP / (TP + FN)) * (TP / (TP + FP)) / (TP / (TP + FN) + TP / (TP + FP)), 'TP', 'FP', 'FN'))"
   ]
  },
  {
   "cell_type": "code",
   "execution_count": 48,
   "metadata": {},
   "outputs": [
    {
     "data": {
      "text/html": [
       "<table border=\"1\" class=\"dataframe\">\n",
       "    <thead>\n",
       "        <tr>\n",
       "            <th>CUTOFF</th> <th>TN</th> <th>FN</th> <th>FP</th> <th>TP</th> <th>ACC</th> <th>SENSITIVITY</th> <th>FPR</th> <th>FMEAS</th>\n",
       "        </tr>\n",
       "    </thead>\n",
       "    <tbody>\n",
       "        <tr>\n",
       "            <td>0     </td> <td>0   </td> <td>0   </td> <td>250 </td> <td>250 </td> <td>0.5  </td> <td>1          </td> <td>1    </td> <td>0.666667</td>\n",
       "        </tr>\n",
       "        <tr>\n",
       "            <td>0.05  </td> <td>40  </td> <td>17  </td> <td>210 </td> <td>233 </td> <td>0.546</td> <td>0.932      </td> <td>0.84 </td> <td>0.672439</td>\n",
       "        </tr>\n",
       "        <tr>\n",
       "            <td>0.1   </td> <td>60  </td> <td>26  </td> <td>190 </td> <td>224 </td> <td>0.568</td> <td>0.896      </td> <td>0.76 </td> <td>0.674699</td>\n",
       "        </tr>\n",
       "        <tr>\n",
       "            <td>0.15  </td> <td>82  </td> <td>37  </td> <td>168 </td> <td>213 </td> <td>0.59 </td> <td>0.852      </td> <td>0.672</td> <td>0.675119</td>\n",
       "        </tr>\n",
       "        <tr>\n",
       "            <td>0.2   </td> <td>93  </td> <td>46  </td> <td>157 </td> <td>204 </td> <td>0.594</td> <td>0.816      </td> <td>0.628</td> <td>0.667758</td>\n",
       "        </tr>\n",
       "        <tr>\n",
       "            <td>0.25  </td> <td>103 </td> <td>53  </td> <td>147 </td> <td>197 </td> <td>0.6  </td> <td>0.788      </td> <td>0.588</td> <td>0.6633  </td>\n",
       "        </tr>\n",
       "        <tr>\n",
       "            <td>0.3   </td> <td>111 </td> <td>64  </td> <td>139 </td> <td>186 </td> <td>0.594</td> <td>0.744      </td> <td>0.556</td> <td>0.646957</td>\n",
       "        </tr>\n",
       "        <tr>\n",
       "            <td>0.35  </td> <td>113 </td> <td>74  </td> <td>137 </td> <td>176 </td> <td>0.578</td> <td>0.704      </td> <td>0.548</td> <td>0.625222</td>\n",
       "        </tr>\n",
       "        <tr>\n",
       "            <td>0.4   </td> <td>121 </td> <td>82  </td> <td>129 </td> <td>168 </td> <td>0.578</td> <td>0.672      </td> <td>0.516</td> <td>0.61426 </td>\n",
       "        </tr>\n",
       "        <tr>\n",
       "            <td>0.45  </td> <td>136 </td> <td>88  </td> <td>114 </td> <td>162 </td> <td>0.596</td> <td>0.648      </td> <td>0.456</td> <td>0.61597 </td>\n",
       "        </tr>\n",
       "        <tr>\n",
       "            <td>0.5   </td> <td>149 </td> <td>94  </td> <td>101 </td> <td>156 </td> <td>0.61 </td> <td>0.624      </td> <td>0.404</td> <td>0.615385</td>\n",
       "        </tr>\n",
       "        <tr>\n",
       "            <td>0.55  </td> <td>157 </td> <td>108 </td> <td>93  </td> <td>142 </td> <td>0.598</td> <td>0.568      </td> <td>0.372</td> <td>0.585567</td>\n",
       "        </tr>\n",
       "        <tr>\n",
       "            <td>0.6   </td> <td>165 </td> <td>123 </td> <td>85  </td> <td>127 </td> <td>0.584</td> <td>0.508      </td> <td>0.34 </td> <td>0.549784</td>\n",
       "        </tr>\n",
       "        <tr>\n",
       "            <td>0.65  </td> <td>169 </td> <td>133 </td> <td>81  </td> <td>117 </td> <td>0.572</td> <td>0.468      </td> <td>0.324</td> <td>0.522321</td>\n",
       "        </tr>\n",
       "        <tr>\n",
       "            <td>0.7   </td> <td>175 </td> <td>143 </td> <td>75  </td> <td>107 </td> <td>0.564</td> <td>0.428      </td> <td>0.3  </td> <td>0.49537 </td>\n",
       "        </tr>\n",
       "        <tr>\n",
       "            <td>0.75  </td> <td>181 </td> <td>156 </td> <td>69  </td> <td>94  </td> <td>0.55 </td> <td>0.376      </td> <td>0.276</td> <td>0.455206</td>\n",
       "        </tr>\n",
       "        <tr>\n",
       "            <td>0.8   </td> <td>192 </td> <td>166 </td> <td>58  </td> <td>84  </td> <td>0.552</td> <td>0.336      </td> <td>0.232</td> <td>0.428571</td>\n",
       "        </tr>\n",
       "        <tr>\n",
       "            <td>0.85  </td> <td>204 </td> <td>177 </td> <td>46  </td> <td>73  </td> <td>0.554</td> <td>0.292      </td> <td>0.184</td> <td>0.395664</td>\n",
       "        </tr>\n",
       "        <tr>\n",
       "            <td>0.9   </td> <td>224 </td> <td>201 </td> <td>26  </td> <td>49  </td> <td>0.546</td> <td>0.196      </td> <td>0.104</td> <td>0.301538</td>\n",
       "        </tr>\n",
       "        <tr>\n",
       "            <td>0.95  </td> <td>238 </td> <td>218 </td> <td>12  </td> <td>32  </td> <td>0.54 </td> <td>0.128      </td> <td>0.048</td> <td>0.217687</td>\n",
       "        </tr>\n",
       "        <tr>\n",
       "            <td>1     </td> <td>250 </td> <td>250 </td> <td>0   </td> <td>0   </td> <td>0.5  </td> <td>0          </td> <td>0    </td> <td>nan     </td>\n",
       "        </tr>\n",
       "    </tbody>\n",
       "</table>"
      ],
      "text/plain": [
       "<IPython.core.display.HTML object>"
      ]
     },
     "metadata": {},
     "output_type": "display_data"
    }
   ],
   "source": [
    "ROC.show()"
   ]
  },
  {
   "cell_type": "code",
   "execution_count": 49,
   "metadata": {},
   "outputs": [
    {
     "data": {
      "image/png": "[encoded data removed]",
      "text/plain": [
       "<Figure size 432x288 with 1 Axes>"
      ]
     },
     "metadata": {},
     "output_type": "display_data"
    }
   ],
   "source": [
    "# Acc Curve by cutoff\n",
    "# ===========================================================\n",
    "fig = plt.figure()\n",
    "plt.xlabel('Cutoff')\n",
    "plt.ylabel('Accuracy')\n",
    "plt.title('Accuracy - Cutoff of Logistic Regression')\n",
    "plt.plot(np.arange(0, 1.1, 0.1), [0.5 for i in np.arange(0, 1.1, 0.1)], color='black')\n",
    "plt.plot(ROC.column('CUTOFF'), ROC.column('ACC'), color='orange')\n",
    "plt.axis([0, 1, 0, 1.1])\n",
    "plt.show()\n",
    "fig.savefig('Logistic ACC.png', bbox_inches='tight')"
   ]
  },
  {
   "cell_type": "code",
   "execution_count": 50,
   "metadata": {},
   "outputs": [
    {
     "data": {
      "image/png": "[encoded data removed]",
      "text/plain": [
       "<Figure size 432x288 with 1 Axes>"
      ]
     },
     "metadata": {},
     "output_type": "display_data"
    }
   ],
   "source": [
    "# ROC_CURVE\n",
    "# ===========================================================\n",
    "fig = plt.figure()\n",
    "plt.xlabel('False Positive Rate')\n",
    "plt.ylabel('Sensitivity')\n",
    "plt.title('ROC - Curve of Logistic Regression')\n",
    "plt.plot(np.arange(0, 1.1, 0.1), np.arange(0, 1.1, 0.1), color='black')\n",
    "plt.plot(ROC.column('FPR'), ROC.column('SENSITIVITY'), color='orange')\n",
    "plt.legend(['Null', 'Logistic'])\n",
    "plt.axis([0, 1, 0, 1.1])\n",
    "plt.show()\n",
    "fig.savefig('Logistic ROC.png', bbox_inches='tight')"
   ]
  },
  {
   "cell_type": "code",
   "execution_count": 51,
   "metadata": {},
   "outputs": [
    {
     "name": "stdout",
     "output_type": "stream",
     "text": [
      "auc = 0.625\n"
     ]
    }
   ],
   "source": [
    "# Compute AUC\n",
    "# ===========================================================\n",
    "length = len(ROC.column('FPR'))\n",
    "auc = 0\n",
    "for i in range(length - 1):\n",
    "    auc += 0.5 * abs(ROC.column('FPR')[i + 1] - ROC.column('FPR')[i]) * (ROC.column('SENSITIVITY')[i] + ROC.column('SENSITIVITY')[i + 1])\n",
    "print(\"auc = %.03f\" %auc)"
   ]
  },
  {
   "cell_type": "code",
   "execution_count": 53,
   "metadata": {},
   "outputs": [],
   "source": [
    "acc, tpr, fpr = ROC.column('ACC'), ROC.column('SENSITIVITY'), ROC.column('FPR')"
   ]
  },
  {
   "cell_type": "code",
   "execution_count": 54,
   "metadata": {},
   "outputs": [
    {
     "data": {
      "text/plain": [
       "array([0.5  , 0.546, 0.568, 0.59 , 0.594, 0.6  , 0.594, 0.578, 0.578,\n",
       "       0.596, 0.61 , 0.598, 0.584, 0.572, 0.564, 0.55 , 0.552, 0.554,\n",
       "       0.546, 0.54 , 0.5  ])"
      ]
     },
     "execution_count": 54,
     "metadata": {},
     "output_type": "execute_result"
    }
   ],
   "source": [
    "acc"
   ]
  },
  {
   "cell_type": "code",
   "execution_count": 55,
   "metadata": {},
   "outputs": [
    {
     "data": {
      "text/plain": [
       "array([1.   , 0.932, 0.896, 0.852, 0.816, 0.788, 0.744, 0.704, 0.672,\n",
       "       0.648, 0.624, 0.568, 0.508, 0.468, 0.428, 0.376, 0.336, 0.292,\n",
       "       0.196, 0.128, 0.   ])"
      ]
     },
     "execution_count": 55,
     "metadata": {},
     "output_type": "execute_result"
    }
   ],
   "source": [
    "tpr"
   ]
  },
  {
   "cell_type": "code",
   "execution_count": 56,
   "metadata": {},
   "outputs": [
    {
     "data": {
      "text/plain": [
       "array([1.   , 0.84 , 0.76 , 0.672, 0.628, 0.588, 0.556, 0.548, 0.516,\n",
       "       0.456, 0.404, 0.372, 0.34 , 0.324, 0.3  , 0.276, 0.232, 0.184,\n",
       "       0.104, 0.048, 0.   ])"
      ]
     },
     "execution_count": 56,
     "metadata": {},
     "output_type": "execute_result"
    }
   ],
   "source": [
    "fpr"
   ]
  },
  {
   "cell_type": "code",
   "execution_count": null,
   "metadata": {},
   "outputs": [],
   "source": []
  }
 ],
 "metadata": {
  "kernelspec": {
   "display_name": "Python 3",
   "language": "python",
   "name": "python3"
  },
  "language_info": {
   "codemirror_mode": {
    "name": "ipython",
    "version": 3
   },
   "file_extension": ".py",
   "mimetype": "text/x-python",
   "name": "python",
   "nbconvert_exporter": "python",
   "pygments_lexer": "ipython3",
   "version": "3.7.3"
  }
 },
 "nbformat": 4,
 "nbformat_minor": 4
}
