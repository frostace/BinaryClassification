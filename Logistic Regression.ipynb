{
 "cells": [
  {
   "cell_type": "code",
   "execution_count": 1,
   "metadata": {},
   "outputs": [],
   "source": [
    "# Import lib\n",
    "# ===========================================================\n",
    "import csv\n",
    "import pandas as pd\n",
    "import numpy as np\n",
    "import random\n",
    "import time\n",
    "import collections\n",
    "import math\n",
    "import sys\n",
    "from tqdm import tqdm\n",
    "from time import sleep\n",
    "\n",
    "import matplotlib.pyplot as plt\n",
    "# %matplotlib inline\n",
    "plt.style.use('fivethirtyeight')\n",
    "\n",
    "from datascience import *\n",
    "from scipy import stats\n",
    "\n",
    "import statsmodels.formula.api as smf\n",
    "import statsmodels.api as sm\n",
    "from sklearn.metrics import confusion_matrix\n",
    "from sklearn.metrics import roc_auc_score\n",
    "from sklearn.metrics import roc_curve"
   ]
  },
  {
   "cell_type": "code",
   "execution_count": 2,
   "metadata": {},
   "outputs": [
    {
     "data": {
      "text/html": [
       "<div>\n",
       "<style scoped>\n",
       "    .dataframe tbody tr th:only-of-type {\n",
       "        vertical-align: middle;\n",
       "    }\n",
       "\n",
       "    .dataframe tbody tr th {\n",
       "        vertical-align: top;\n",
       "    }\n",
       "\n",
       "    .dataframe thead th {\n",
       "        text-align: right;\n",
       "    }\n",
       "</style>\n",
       "<table border=\"1\" class=\"dataframe\">\n",
       "  <thead>\n",
       "    <tr style=\"text-align: right;\">\n",
       "      <th></th>\n",
       "      <th>CHROM</th>\n",
       "      <th>POS</th>\n",
       "      <th>REF</th>\n",
       "      <th>ALT</th>\n",
       "      <th>AF_ESP</th>\n",
       "      <th>AF_EXAC</th>\n",
       "      <th>AF_TGP</th>\n",
       "      <th>CLNDISDB</th>\n",
       "      <th>CLNDN</th>\n",
       "      <th>CLNHGVS</th>\n",
       "      <th>...</th>\n",
       "      <th>Codons</th>\n",
       "      <th>STRAND</th>\n",
       "      <th>BAM_EDIT</th>\n",
       "      <th>SIFT</th>\n",
       "      <th>PolyPhen</th>\n",
       "      <th>LoFtool</th>\n",
       "      <th>CADD_PHRED</th>\n",
       "      <th>CADD_RAW</th>\n",
       "      <th>BLOSUM62</th>\n",
       "      <th>CLASS</th>\n",
       "    </tr>\n",
       "  </thead>\n",
       "  <tbody>\n",
       "    <tr>\n",
       "      <th>54663</th>\n",
       "      <td>0.625000</td>\n",
       "      <td>0.727989</td>\n",
       "      <td>0.764434</td>\n",
       "      <td>0.567686</td>\n",
       "      <td>0.000000</td>\n",
       "      <td>0.970901</td>\n",
       "      <td>0.126018</td>\n",
       "      <td>0.829218</td>\n",
       "      <td>0.118143</td>\n",
       "      <td>0.928054</td>\n",
       "      <td>...</td>\n",
       "      <td>0.671769</td>\n",
       "      <td>0.9375</td>\n",
       "      <td>0.666667</td>\n",
       "      <td>0.8</td>\n",
       "      <td>0.8</td>\n",
       "      <td>0.966901</td>\n",
       "      <td>0.431452</td>\n",
       "      <td>0.053733</td>\n",
       "      <td>0.000000</td>\n",
       "      <td>1</td>\n",
       "    </tr>\n",
       "    <tr>\n",
       "      <th>47004</th>\n",
       "      <td>0.458333</td>\n",
       "      <td>0.308833</td>\n",
       "      <td>0.815242</td>\n",
       "      <td>0.661572</td>\n",
       "      <td>0.000000</td>\n",
       "      <td>0.490925</td>\n",
       "      <td>0.643987</td>\n",
       "      <td>0.508664</td>\n",
       "      <td>0.072246</td>\n",
       "      <td>0.466528</td>\n",
       "      <td>...</td>\n",
       "      <td>0.766772</td>\n",
       "      <td>0.0625</td>\n",
       "      <td>0.666667</td>\n",
       "      <td>0.8</td>\n",
       "      <td>0.8</td>\n",
       "      <td>0.043639</td>\n",
       "      <td>0.059524</td>\n",
       "      <td>0.659203</td>\n",
       "      <td>0.000000</td>\n",
       "      <td>0</td>\n",
       "    </tr>\n",
       "    <tr>\n",
       "      <th>18777</th>\n",
       "      <td>0.291667</td>\n",
       "      <td>0.858829</td>\n",
       "      <td>0.578522</td>\n",
       "      <td>0.746725</td>\n",
       "      <td>0.066502</td>\n",
       "      <td>0.739763</td>\n",
       "      <td>0.000000</td>\n",
       "      <td>0.099740</td>\n",
       "      <td>0.021598</td>\n",
       "      <td>0.626097</td>\n",
       "      <td>...</td>\n",
       "      <td>0.342638</td>\n",
       "      <td>0.0625</td>\n",
       "      <td>0.666667</td>\n",
       "      <td>0.8</td>\n",
       "      <td>0.8</td>\n",
       "      <td>0.787907</td>\n",
       "      <td>0.805300</td>\n",
       "      <td>0.290346</td>\n",
       "      <td>0.000000</td>\n",
       "      <td>0</td>\n",
       "    </tr>\n",
       "    <tr>\n",
       "      <th>306</th>\n",
       "      <td>0.875000</td>\n",
       "      <td>0.831894</td>\n",
       "      <td>0.578522</td>\n",
       "      <td>0.746725</td>\n",
       "      <td>0.000000</td>\n",
       "      <td>0.000000</td>\n",
       "      <td>0.000000</td>\n",
       "      <td>0.310266</td>\n",
       "      <td>0.123110</td>\n",
       "      <td>0.505047</td>\n",
       "      <td>...</td>\n",
       "      <td>0.112112</td>\n",
       "      <td>0.9375</td>\n",
       "      <td>0.666667</td>\n",
       "      <td>0.6</td>\n",
       "      <td>0.2</td>\n",
       "      <td>0.193972</td>\n",
       "      <td>0.430684</td>\n",
       "      <td>0.106834</td>\n",
       "      <td>0.999924</td>\n",
       "      <td>1</td>\n",
       "    </tr>\n",
       "    <tr>\n",
       "      <th>29969</th>\n",
       "      <td>0.791667</td>\n",
       "      <td>0.635602</td>\n",
       "      <td>0.815242</td>\n",
       "      <td>0.661572</td>\n",
       "      <td>0.721675</td>\n",
       "      <td>0.614369</td>\n",
       "      <td>0.515573</td>\n",
       "      <td>0.075590</td>\n",
       "      <td>0.056911</td>\n",
       "      <td>0.778195</td>\n",
       "      <td>...</td>\n",
       "      <td>0.946871</td>\n",
       "      <td>0.9375</td>\n",
       "      <td>0.666667</td>\n",
       "      <td>0.6</td>\n",
       "      <td>0.2</td>\n",
       "      <td>0.779031</td>\n",
       "      <td>0.262481</td>\n",
       "      <td>0.081224</td>\n",
       "      <td>0.000000</td>\n",
       "      <td>0</td>\n",
       "    </tr>\n",
       "  </tbody>\n",
       "</table>\n",
       "<p>5 rows × 37 columns</p>\n",
       "</div>"
      ],
      "text/plain": [
       "          CHROM       POS       REF       ALT    AF_ESP   AF_EXAC    AF_TGP  \\\n",
       "54663  0.625000  0.727989  0.764434  0.567686  0.000000  0.970901  0.126018   \n",
       "47004  0.458333  0.308833  0.815242  0.661572  0.000000  0.490925  0.643987   \n",
       "18777  0.291667  0.858829  0.578522  0.746725  0.066502  0.739763  0.000000   \n",
       "306    0.875000  0.831894  0.578522  0.746725  0.000000  0.000000  0.000000   \n",
       "29969  0.791667  0.635602  0.815242  0.661572  0.721675  0.614369  0.515573   \n",
       "\n",
       "       CLNDISDB     CLNDN   CLNHGVS  ...    Codons  STRAND  BAM_EDIT  SIFT  \\\n",
       "54663  0.829218  0.118143  0.928054  ...  0.671769  0.9375  0.666667   0.8   \n",
       "47004  0.508664  0.072246  0.466528  ...  0.766772  0.0625  0.666667   0.8   \n",
       "18777  0.099740  0.021598  0.626097  ...  0.342638  0.0625  0.666667   0.8   \n",
       "306    0.310266  0.123110  0.505047  ...  0.112112  0.9375  0.666667   0.6   \n",
       "29969  0.075590  0.056911  0.778195  ...  0.946871  0.9375  0.666667   0.6   \n",
       "\n",
       "       PolyPhen   LoFtool  CADD_PHRED  CADD_RAW  BLOSUM62  CLASS  \n",
       "54663       0.8  0.966901    0.431452  0.053733  0.000000      1  \n",
       "47004       0.8  0.043639    0.059524  0.659203  0.000000      0  \n",
       "18777       0.8  0.787907    0.805300  0.290346  0.000000      0  \n",
       "306         0.2  0.193972    0.430684  0.106834  0.999924      1  \n",
       "29969       0.2  0.779031    0.262481  0.081224  0.000000      0  \n",
       "\n",
       "[5 rows x 37 columns]"
      ]
     },
     "execution_count": 2,
     "metadata": {},
     "output_type": "execute_result"
    }
   ],
   "source": [
    "# Initialize useful data\n",
    "# ===========================================================\n",
    "# with open('clinvar_conflicting_mapped.csv', 'r') as f:\n",
    "#     reader = csv.reader(f)\n",
    "#     temp_rows = list(reader)\n",
    "df = pd.read_csv('clinvar_conflicting_mapped.csv', low_memory=False)\n",
    "df_zero = df.loc[df['CLASS'] == 0]\n",
    "df_zero = df_zero.sample(n=10000)\n",
    "df_one = df.loc[df['CLASS'] == 1]\n",
    "df_one = df_one.sample(n=10000)\n",
    "\n",
    "df = pd.concat([df_zero, df_one])\n",
    "df = df.sample(n = df.shape[0])\n",
    "all_rows = df.values.tolist()\n",
    "row_num = len(all_rows)\n",
    "df.head()"
   ]
  },
  {
   "cell_type": "code",
   "execution_count": 3,
   "metadata": {},
   "outputs": [],
   "source": [
    "df = df.sample(n = df.shape[0])\n",
    "all_rows = df.values.tolist()\n",
    "row_num = len(all_rows)"
   ]
  },
  {
   "cell_type": "code",
   "execution_count": 4,
   "metadata": {},
   "outputs": [],
   "source": [
    "# Divide whole dataset into training set and testing set\n",
    "# ===========================================================\n",
    "training_percentage = 0.01  # percent of partition of training dataset\n",
    "training_size = int(row_num * training_percentage)\n",
    "testing_size = row_num - training_size\n",
    "trainingframe = df.iloc[: training_size]\n",
    "testingframe = df.iloc[training_size: ]\n",
    "trainingset = Table.from_df(trainingframe)\n",
    "testingset = Table.from_df(testingframe)"
   ]
  },
  {
   "cell_type": "code",
   "execution_count": 10,
   "metadata": {},
   "outputs": [
    {
     "name": "stdout",
     "output_type": "stream",
     "text": [
      "Logistic Regression Model Trained! Time: 0.158s\n"
     ]
    },
    {
     "name": "stderr",
     "output_type": "stream",
     "text": [
      "/Users/frostace/anaconda3/lib/python3.7/site-packages/ipykernel_launcher.py:22: DeprecationWarning: Calling Family(..) with a link class as argument is deprecated.\n",
      "Use an instance of a link class instead.\n"
     ]
    }
   ],
   "source": [
    "# Train Model\n",
    "# ===========================================================\n",
    "formula = 'CLASS ~ CHROM + POS + REF + ALT + AF_ESP + AF_EXAC + AF_TGP + CLNDISDB + CLNDN + CLNVC + CLNVI + MC + ORIGIN + Allele + Consequence + IMPACT + SYMBOL + Feature_type + Feature + BIOTYPE + EXON + INTRON + cDNA_position + CDS_position + Protein_position + Amino_acids + Codons + STRAND + BAM_EDIT + SIFT + PolyPhen + LoFtool + CADD_PHRED + CADD_RAW + BLOSUM62'\n",
    "# formula = 'CLASS ~ CHROM + POS + REF + ALT + AF_ESP + AF_EXAC + AF_TGP + CLNDISDB + CLNDN'\n",
    "# selected_attribute = ['CHROM',\n",
    "#  'POS',\n",
    "#  'REF',\n",
    "#  'ALT',\n",
    "#  'AF_ESP',\n",
    "#  'AF_EXAC',\n",
    "#  'AF_TGP',\n",
    "#  'CLNDISDB',\n",
    "#  'CLNDN']\n",
    "# i removed 'CLNHGVS'\n",
    "# formula = 'CLASS ~ CLNVC + CLNVI + MC + ORIGIN + Allele + Consequence + IMPACT + SYMBOL'\n",
    "# formula = 'CLASS ~ Feature_type + Feature + BIOTYPE + EXON + INTRON + cDNA_position'\n",
    "# formula = 'CLASS ~ CDS_position + Protein_position + Amino_acids + Codons + STRAND + BAM_EDIT'\n",
    "# formula = 'CLASS ~ SIFT + PolyPhen + LoFtool + CADD_PHRED + CADD_RAW + BLOSUM62'\n",
    "start = time.time()\n",
    "model = smf.glm(formula=formula, data=trainingframe, \n",
    "                family=sm.families.Binomial(\n",
    "                link=sm.genmod.families.links.logit))\n",
    "result = model.fit()\n",
    "# result.summary()\n",
    "end = time.time()\n",
    "print(\"Logistic Regression Model Trained! Time: %.03fs\" % (end - start))"
   ]
  },
  {
   "cell_type": "code",
   "execution_count": 11,
   "metadata": {},
   "outputs": [],
   "source": [
    "# Compare Actual label and Predicted label\n",
    "# ===========================================================\n",
    "pred = result.predict(testingset.to_df())\n",
    "final = Table().with_column('IDX', [i for i in range(len(pred))])\n",
    "final = final.with_columns('ACT_CLASS', testingset.select('CLASS').to_df()[['CLASS']].transpose().values.tolist()[0], 'PRE_CLASS', pred.to_numpy())"
   ]
  },
  {
   "cell_type": "code",
   "execution_count": 12,
   "metadata": {},
   "outputs": [
    {
     "data": {
      "text/html": [
       "<table border=\"1\" class=\"dataframe\">\n",
       "    <thead>\n",
       "        <tr>\n",
       "            <th>IDX</th> <th>ACT_CLASS</th> <th>PRE_CLASS</th>\n",
       "        </tr>\n",
       "    </thead>\n",
       "    <tbody>\n",
       "        <tr>\n",
       "            <td>0   </td> <td>1        </td> <td>0.884723 </td>\n",
       "        </tr>\n",
       "        <tr>\n",
       "            <td>1   </td> <td>0        </td> <td>0.260021 </td>\n",
       "        </tr>\n",
       "        <tr>\n",
       "            <td>2   </td> <td>0        </td> <td>0.252895 </td>\n",
       "        </tr>\n",
       "        <tr>\n",
       "            <td>3   </td> <td>0        </td> <td>0.838801 </td>\n",
       "        </tr>\n",
       "        <tr>\n",
       "            <td>4   </td> <td>0        </td> <td>0.158827 </td>\n",
       "        </tr>\n",
       "    </tbody>\n",
       "</table>\n",
       "<p>... (19795 rows omitted)</p>"
      ],
      "text/plain": [
       "<IPython.core.display.HTML object>"
      ]
     },
     "metadata": {},
     "output_type": "display_data"
    }
   ],
   "source": [
    "final.show(5)"
   ]
  },
  {
   "cell_type": "code",
   "execution_count": 13,
   "metadata": {},
   "outputs": [],
   "source": [
    "# Compute TN, TP, FN, FP, etc.\n",
    "# ===========================================================\n",
    "ROC = Table(make_array('CUTOFF', 'TN', 'FN', 'FP', 'TP', 'ACC'))\n",
    "step_size = 0.05\n",
    "for cutoff in np.arange(0, 1 + step_size, step_size):\n",
    "    temp_final = final.with_column('INDICATE', final.apply(lambda x, y: (int(x >= cutoff) << 1) + y, 'PRE_CLASS', 'ACT_CLASS'))\n",
    "    # 00(0) -> TN\n",
    "    # 01(1) -> FN\n",
    "    # 10(2) -> FP\n",
    "    # 11(3) -> TP\n",
    "    group = temp_final.group('INDICATE')\n",
    "    indicator = group.column(0)\n",
    "    counts = group.column(1)\n",
    "#     print(indicator, counts)\n",
    "    output = [cutoff]\n",
    "    idx = 0\n",
    "    for i in range(4):\n",
    "#         print(counts[idx])\n",
    "        if i in indicator:\n",
    "            output.append(counts[idx])\n",
    "            idx += 1\n",
    "        else:\n",
    "            output.append(0)\n",
    "    acc = (output[1] + output[4]) / sum(output[1:])\n",
    "    output.append(acc)\n",
    "    ROC = ROC.with_row(output)\n",
    "ROC = ROC.with_columns('SENSITIVITY', ROC.apply(lambda TP, FN: TP / (TP + FN + 0.00000001), 'TP', 'FN'))\n",
    "ROC = ROC.with_columns('FPR', ROC.apply(lambda TN, FP: FP / (TN + FP + 0.00000001), 'TN', 'FP'))\n",
    "ROC = ROC.with_column('FMEAS', ROC.apply(lambda TP, FP, FN: 2 * (TP / (TP + FN)) * (TP / (TP + FP)) / (TP / (TP + FN) + TP / (TP + FP)), 'TP', 'FP', 'FN'))"
   ]
  },
  {
   "cell_type": "code",
   "execution_count": 14,
   "metadata": {},
   "outputs": [
    {
     "data": {
      "text/html": [
       "<table border=\"1\" class=\"dataframe\">\n",
       "    <thead>\n",
       "        <tr>\n",
       "            <th>CUTOFF</th> <th>TN</th> <th>FN</th> <th>FP</th> <th>TP</th> <th>ACC</th> <th>SENSITIVITY</th> <th>FPR</th>\n",
       "        </tr>\n",
       "    </thead>\n",
       "    <tbody>\n",
       "        <tr>\n",
       "            <td>0     </td> <td>0   </td> <td>0   </td> <td>9892</td> <td>9908</td> <td>0.500404</td> <td>1          </td> <td>1          </td>\n",
       "        </tr>\n",
       "        <tr>\n",
       "            <td>0.05  </td> <td>442 </td> <td>364 </td> <td>9450</td> <td>9544</td> <td>0.504343</td> <td>0.963262   </td> <td>0.955317   </td>\n",
       "        </tr>\n",
       "        <tr>\n",
       "            <td>0.1   </td> <td>799 </td> <td>677 </td> <td>9093</td> <td>9231</td> <td>0.506566</td> <td>0.931671   </td> <td>0.919228   </td>\n",
       "        </tr>\n",
       "        <tr>\n",
       "            <td>0.15  </td> <td>1305</td> <td>1043</td> <td>8587</td> <td>8865</td> <td>0.513636</td> <td>0.894732   </td> <td>0.868075   </td>\n",
       "        </tr>\n",
       "        <tr>\n",
       "            <td>0.2   </td> <td>1870</td> <td>1470</td> <td>8022</td> <td>8438</td> <td>0.520606</td> <td>0.851635   </td> <td>0.810958   </td>\n",
       "        </tr>\n",
       "        <tr>\n",
       "            <td>0.25  </td> <td>2499</td> <td>2001</td> <td>7393</td> <td>7907</td> <td>0.525556</td> <td>0.798042   </td> <td>0.747372   </td>\n",
       "        </tr>\n",
       "        <tr>\n",
       "            <td>0.3   </td> <td>3244</td> <td>2638</td> <td>6648</td> <td>7270</td> <td>0.53101 </td> <td>0.733751   </td> <td>0.672058   </td>\n",
       "        </tr>\n",
       "        <tr>\n",
       "            <td>0.35  </td> <td>4039</td> <td>3370</td> <td>5853</td> <td>6538</td> <td>0.534192</td> <td>0.659871   </td> <td>0.59169    </td>\n",
       "        </tr>\n",
       "        <tr>\n",
       "            <td>0.4   </td> <td>4858</td> <td>4141</td> <td>5034</td> <td>5767</td> <td>0.536616</td> <td>0.582055   </td> <td>0.508896   </td>\n",
       "        </tr>\n",
       "        <tr>\n",
       "            <td>0.45  </td> <td>5606</td> <td>4963</td> <td>4286</td> <td>4945</td> <td>0.532879</td> <td>0.499092   </td> <td>0.433279   </td>\n",
       "        </tr>\n",
       "        <tr>\n",
       "            <td>0.5   </td> <td>6318</td> <td>5764</td> <td>3574</td> <td>4144</td> <td>0.528384</td> <td>0.418248   </td> <td>0.361302   </td>\n",
       "        </tr>\n",
       "        <tr>\n",
       "            <td>0.55  </td> <td>7040</td> <td>6501</td> <td>2852</td> <td>3407</td> <td>0.527626</td> <td>0.343864   </td> <td>0.288314   </td>\n",
       "        </tr>\n",
       "        <tr>\n",
       "            <td>0.6   </td> <td>7713</td> <td>7289</td> <td>2179</td> <td>2619</td> <td>0.521818</td> <td>0.264332   </td> <td>0.220279   </td>\n",
       "        </tr>\n",
       "        <tr>\n",
       "            <td>0.65  </td> <td>8285</td> <td>7964</td> <td>1607</td> <td>1944</td> <td>0.516616</td> <td>0.196205   </td> <td>0.162455   </td>\n",
       "        </tr>\n",
       "        <tr>\n",
       "            <td>0.7   </td> <td>8742</td> <td>8524</td> <td>1150</td> <td>1384</td> <td>0.511414</td> <td>0.139685   </td> <td>0.116256   </td>\n",
       "        </tr>\n",
       "        <tr>\n",
       "            <td>0.75  </td> <td>9174</td> <td>8996</td> <td>718 </td> <td>912 </td> <td>0.509394</td> <td>0.0920468  </td> <td>0.0725839  </td>\n",
       "        </tr>\n",
       "        <tr>\n",
       "            <td>0.8   </td> <td>9480</td> <td>9406</td> <td>412 </td> <td>502 </td> <td>0.504141</td> <td>0.0506661  </td> <td>0.0416498  </td>\n",
       "        </tr>\n",
       "        <tr>\n",
       "            <td>0.85  </td> <td>9720</td> <td>9680</td> <td>172 </td> <td>228 </td> <td>0.502424</td> <td>0.0230117  </td> <td>0.0173878  </td>\n",
       "        </tr>\n",
       "        <tr>\n",
       "            <td>0.9   </td> <td>9844</td> <td>9839</td> <td>48  </td> <td>69  </td> <td>0.500657</td> <td>0.00696407 </td> <td>0.00485241 </td>\n",
       "        </tr>\n",
       "        <tr>\n",
       "            <td>0.95  </td> <td>9888</td> <td>9900</td> <td>4   </td> <td>8   </td> <td>0.499798</td> <td>0.000807428</td> <td>0.000404367</td>\n",
       "        </tr>\n",
       "        <tr>\n",
       "            <td>1     </td> <td>9892</td> <td>9908</td> <td>0   </td> <td>0   </td> <td>0.499596</td> <td>0          </td> <td>0          </td>\n",
       "        </tr>\n",
       "    </tbody>\n",
       "</table>"
      ],
      "text/plain": [
       "<IPython.core.display.HTML object>"
      ]
     },
     "metadata": {},
     "output_type": "display_data"
    }
   ],
   "source": [
    "ROC.show()"
   ]
  },
  {
   "cell_type": "code",
   "execution_count": 20,
   "metadata": {},
   "outputs": [
    {
     "data": {
      "image/png": "[encoded data removed]",
      "text/plain": [
       "<Figure size 432x288 with 1 Axes>"
      ]
     },
     "metadata": {
      "needs_background": "light"
     },
     "output_type": "display_data"
    }
   ],
   "source": [
    "# Acc Curve by cutoff\n",
    "# ===========================================================\n",
    "fig = plt.figure()\n",
    "plt.xlabel('Cutoff')\n",
    "plt.ylabel('Accuracy')\n",
    "plt.title('Accuracy - Cutoff of Logistic Regression')\n",
    "plt.plot(np.arange(0, 1.1, 0.1), [0.5 for i in np.arange(0, 1.1, 0.1)], color='black')\n",
    "plt.plot(ROC.column('CUTOFF'), ROC.column('ACC'), color='orange')\n",
    "plt.axis([0, 1, 0, 1.1])\n",
    "plt.show()\n",
    "fig.savefig('Logistic ACC.png', bbox_inches='tight')"
   ]
  },
  {
   "cell_type": "code",
   "execution_count": 19,
   "metadata": {},
   "outputs": [
    {
     "data": {
      "image/png": "[encoded data removed]",
      "text/plain": [
       "<Figure size 432x288 with 1 Axes>"
      ]
     },
     "metadata": {
      "needs_background": "light"
     },
     "output_type": "display_data"
    }
   ],
   "source": [
    "# ROC_CURVE\n",
    "# ===========================================================\n",
    "fig = plt.figure()\n",
    "plt.xlabel('False Positive Rate')\n",
    "plt.ylabel('Sensitivity')\n",
    "plt.title('ROC - Curve of Logistic Regression')\n",
    "plt.plot(np.arange(0, 1.1, 0.1), np.arange(0, 1.1, 0.1), color='black')\n",
    "plt.plot(ROC.column('FPR'), ROC.column('SENSITIVITY'), color='orange')\n",
    "plt.legend(['Logistic', 'Null'])\n",
    "plt.axis([0, 1, 0, 1.1])\n",
    "plt.show()\n",
    "fig.savefig('Logistic ROC.png', bbox_inches='tight')"
   ]
  },
  {
   "cell_type": "code",
   "execution_count": 18,
   "metadata": {},
   "outputs": [
    {
     "name": "stdout",
     "output_type": "stream",
     "text": [
      "auc = 0.544\n"
     ]
    }
   ],
   "source": [
    "# Compute AUC\n",
    "# ===========================================================\n",
    "length = len(ROC.column('FPR'))\n",
    "auc = 0\n",
    "for i in range(length - 1):\n",
    "    auc += 0.5 * abs(ROC.column('FPR')[i + 1] - ROC.column('FPR')[i]) * (ROC.column('SENSITIVITY')[i] + ROC.column('SENSITIVITY')[i + 1])\n",
    "print(\"auc = %.03f\" %auc)"
   ]
  },
  {
   "cell_type": "code",
   "execution_count": 13,
   "metadata": {},
   "outputs": [],
   "source": [
    "# import sklearn\n",
    "# from sklearn.linear_model import LogisticRegression\n",
    "# from sklearn.cross_validation import train_test_split\n",
    "\n",
    "# # Normalize grades to values between 0 and 1 for more efficient computation\n",
    "# normalized_range = sklearn.preprocessing.MinMaxScaler(feature_range=(-1,1))\n",
    "\n",
    "# # Extract Features + Labels\n",
    "# labels.shape =  (100,) #scikit expects this\n",
    "# features = normalized_range.fit_transform(features)\n",
    "\n",
    "# # Create Test/Train\n",
    "# features_train,features_test,labels_train,labels_test = train_test_split(features,labels,test_size=0.4)\n",
    "\n",
    "# # Scikit Logistic Regression\n",
    "# scikit_log_reg = LogisticRegression()\n",
    "# scikit_log_reg.fit(features_train,labels_train)\n",
    "\n",
    "# #Score is Mean Accuracy\n",
    "# scikit_score = clf.score(features_test,labels_test)\n",
    "# print('Scikit score: ', scikit_score)"
   ]
  },
  {
   "cell_type": "code",
   "execution_count": 21,
   "metadata": {},
   "outputs": [],
   "source": [
    "a, b = ROC.column('FPR'), ROC.column('SENSITIVITY')"
   ]
  },
  {
   "cell_type": "code",
   "execution_count": 22,
   "metadata": {},
   "outputs": [
    {
     "data": {
      "text/plain": [
       "array([1.00000000e+00, 9.55317428e-01, 9.19227659e-01, 8.68075212e-01,\n",
       "       8.10958350e-01, 7.47371613e-01, 6.72058229e-01, 5.91690255e-01,\n",
       "       5.08896078e-01, 4.33279418e-01, 3.61302062e-01, 2.88313789e-01,\n",
       "       2.20279013e-01, 1.62454509e-01, 1.16255560e-01, 7.25839062e-02,\n",
       "       4.16498180e-02, 1.73877881e-02, 4.85240598e-03, 4.04367165e-04,\n",
       "       0.00000000e+00])"
      ]
     },
     "execution_count": 22,
     "metadata": {},
     "output_type": "execute_result"
    }
   ],
   "source": [
    "a"
   ]
  },
  {
   "cell_type": "code",
   "execution_count": 23,
   "metadata": {},
   "outputs": [
    {
     "data": {
      "text/plain": [
       "array([1.00000000e+00, 9.63262010e-01, 9.31671377e-01, 8.94731530e-01,\n",
       "       8.51635042e-01, 7.98041986e-01, 7.33750505e-01, 6.59870811e-01,\n",
       "       5.82054905e-01, 4.99091643e-01, 4.18247881e-01, 3.43863545e-01,\n",
       "       2.64331853e-01, 1.96205087e-01, 1.39685103e-01, 9.20468308e-02,\n",
       "       5.06661284e-02, 2.30117077e-02, 6.96406944e-03, 8.07428341e-04,\n",
       "       0.00000000e+00])"
      ]
     },
     "execution_count": 23,
     "metadata": {},
     "output_type": "execute_result"
    }
   ],
   "source": [
    "b"
   ]
  },
  {
   "cell_type": "code",
   "execution_count": 24,
   "metadata": {},
   "outputs": [
    {
     "data": {
      "text/plain": [
       "array([0.50040404, 0.50434343, 0.50656566, 0.51363636, 0.52060606,\n",
       "       0.52555556, 0.5310101 , 0.53419192, 0.53661616, 0.53287879,\n",
       "       0.52838384, 0.52762626, 0.52181818, 0.51661616, 0.51141414,\n",
       "       0.50939394, 0.50414141, 0.50242424, 0.50065657, 0.49979798,\n",
       "       0.49959596])"
      ]
     },
     "execution_count": 24,
     "metadata": {},
     "output_type": "execute_result"
    }
   ],
   "source": [
    "ROC.column('ACC')"
   ]
  },
  {
   "cell_type": "code",
   "execution_count": null,
   "metadata": {},
   "outputs": [],
   "source": []
  }
 ],
 "metadata": {
  "kernelspec": {
   "display_name": "Python 3",
   "language": "python",
   "name": "python3"
  },
  "language_info": {
   "codemirror_mode": {
    "name": "ipython",
    "version": 3
   },
   "file_extension": ".py",
   "mimetype": "text/x-python",
   "name": "python",
   "nbconvert_exporter": "python",
   "pygments_lexer": "ipython3",
   "version": "3.7.3"
  }
 },
 "nbformat": 4,
 "nbformat_minor": 4
}
