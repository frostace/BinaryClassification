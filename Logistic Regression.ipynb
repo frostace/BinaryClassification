{
 "cells": [
  {
   "cell_type": "code",
   "execution_count": 1,
   "metadata": {},
   "outputs": [],
   "source": [
    "# Import lib\n",
    "# ===========================================================\n",
    "import csv\n",
    "import pandas as pd\n",
    "import numpy as np\n",
    "import random\n",
    "import time\n",
    "import collections\n",
    "import math\n",
    "import sys\n",
    "from tqdm import tqdm\n",
    "from time import sleep\n",
    "\n",
    "import matplotlib.pyplot as plt\n",
    "# %matplotlib inline\n",
    "plt.style.use('fivethirtyeight')\n",
    "\n",
    "from datascience import *\n",
    "from scipy import stats\n",
    "\n",
    "import statsmodels.formula.api as smf\n",
    "import statsmodels.api as sm\n",
    "from sklearn.metrics import confusion_matrix\n",
    "from sklearn.metrics import roc_auc_score\n",
    "from sklearn.metrics import roc_curve"
   ]
  },
  {
   "cell_type": "code",
   "execution_count": 2,
   "metadata": {},
   "outputs": [
    {
     "data": {
      "text/html": [
       "<div>\n",
       "<style scoped>\n",
       "    .dataframe tbody tr th:only-of-type {\n",
       "        vertical-align: middle;\n",
       "    }\n",
       "\n",
       "    .dataframe tbody tr th {\n",
       "        vertical-align: top;\n",
       "    }\n",
       "\n",
       "    .dataframe thead th {\n",
       "        text-align: right;\n",
       "    }\n",
       "</style>\n",
       "<table border=\"1\" class=\"dataframe\">\n",
       "  <thead>\n",
       "    <tr style=\"text-align: right;\">\n",
       "      <th></th>\n",
       "      <th>CHROM</th>\n",
       "      <th>POS</th>\n",
       "      <th>REF</th>\n",
       "      <th>ALT</th>\n",
       "      <th>AF_ESP</th>\n",
       "      <th>AF_EXAC</th>\n",
       "      <th>AF_TGP</th>\n",
       "      <th>CLNDISDB</th>\n",
       "      <th>CLNDN</th>\n",
       "      <th>CLNHGVS</th>\n",
       "      <th>...</th>\n",
       "      <th>Codons</th>\n",
       "      <th>STRAND</th>\n",
       "      <th>BAM_EDIT</th>\n",
       "      <th>SIFT</th>\n",
       "      <th>PolyPhen</th>\n",
       "      <th>LoFtool</th>\n",
       "      <th>CADD_PHRED</th>\n",
       "      <th>CADD_RAW</th>\n",
       "      <th>BLOSUM62</th>\n",
       "      <th>CLASS</th>\n",
       "    </tr>\n",
       "  </thead>\n",
       "  <tbody>\n",
       "    <tr>\n",
       "      <th>0</th>\n",
       "      <td>0.875</td>\n",
       "      <td>0.293401</td>\n",
       "      <td>0.578522</td>\n",
       "      <td>0.799127</td>\n",
       "      <td>0.000000</td>\n",
       "      <td>0.000000</td>\n",
       "      <td>0.000000</td>\n",
       "      <td>0.239983</td>\n",
       "      <td>0.194276</td>\n",
       "      <td>0.527505</td>\n",
       "      <td>...</td>\n",
       "      <td>0.806394</td>\n",
       "      <td>0.0625</td>\n",
       "      <td>0.666667</td>\n",
       "      <td>0.8</td>\n",
       "      <td>0.8</td>\n",
       "      <td>0.535503</td>\n",
       "      <td>0.001056</td>\n",
       "      <td>0.650358</td>\n",
       "      <td>0.999949</td>\n",
       "      <td>0</td>\n",
       "    </tr>\n",
       "    <tr>\n",
       "      <th>1</th>\n",
       "      <td>0.875</td>\n",
       "      <td>0.293908</td>\n",
       "      <td>0.578522</td>\n",
       "      <td>0.661572</td>\n",
       "      <td>0.000000</td>\n",
       "      <td>0.515074</td>\n",
       "      <td>0.379013</td>\n",
       "      <td>0.552848</td>\n",
       "      <td>0.898380</td>\n",
       "      <td>0.452553</td>\n",
       "      <td>...</td>\n",
       "      <td>0.588023</td>\n",
       "      <td>0.0625</td>\n",
       "      <td>0.666667</td>\n",
       "      <td>0.8</td>\n",
       "      <td>0.8</td>\n",
       "      <td>0.535503</td>\n",
       "      <td>0.931644</td>\n",
       "      <td>0.090793</td>\n",
       "      <td>0.000000</td>\n",
       "      <td>0</td>\n",
       "    </tr>\n",
       "    <tr>\n",
       "      <th>2</th>\n",
       "      <td>0.875</td>\n",
       "      <td>0.294209</td>\n",
       "      <td>0.578522</td>\n",
       "      <td>0.799127</td>\n",
       "      <td>0.000000</td>\n",
       "      <td>0.822409</td>\n",
       "      <td>0.771921</td>\n",
       "      <td>0.239983</td>\n",
       "      <td>0.194276</td>\n",
       "      <td>0.759112</td>\n",
       "      <td>...</td>\n",
       "      <td>0.366952</td>\n",
       "      <td>0.0625</td>\n",
       "      <td>0.666667</td>\n",
       "      <td>0.8</td>\n",
       "      <td>0.8</td>\n",
       "      <td>0.535503</td>\n",
       "      <td>0.259697</td>\n",
       "      <td>0.077541</td>\n",
       "      <td>0.000025</td>\n",
       "      <td>1</td>\n",
       "    </tr>\n",
       "    <tr>\n",
       "      <th>3</th>\n",
       "      <td>0.875</td>\n",
       "      <td>0.312446</td>\n",
       "      <td>0.815242</td>\n",
       "      <td>0.661572</td>\n",
       "      <td>0.865939</td>\n",
       "      <td>0.701065</td>\n",
       "      <td>0.511260</td>\n",
       "      <td>0.239983</td>\n",
       "      <td>0.194276</td>\n",
       "      <td>0.467724</td>\n",
       "      <td>...</td>\n",
       "      <td>0.766772</td>\n",
       "      <td>0.0625</td>\n",
       "      <td>0.666667</td>\n",
       "      <td>0.8</td>\n",
       "      <td>0.8</td>\n",
       "      <td>0.535503</td>\n",
       "      <td>0.884697</td>\n",
       "      <td>0.259080</td>\n",
       "      <td>0.000000</td>\n",
       "      <td>0</td>\n",
       "    </tr>\n",
       "    <tr>\n",
       "      <th>4</th>\n",
       "      <td>0.875</td>\n",
       "      <td>0.469365</td>\n",
       "      <td>0.815242</td>\n",
       "      <td>0.661572</td>\n",
       "      <td>0.000000</td>\n",
       "      <td>0.084446</td>\n",
       "      <td>0.643987</td>\n",
       "      <td>0.552848</td>\n",
       "      <td>0.898380</td>\n",
       "      <td>0.519298</td>\n",
       "      <td>...</td>\n",
       "      <td>0.218370</td>\n",
       "      <td>0.0625</td>\n",
       "      <td>0.666667</td>\n",
       "      <td>0.8</td>\n",
       "      <td>0.8</td>\n",
       "      <td>0.535503</td>\n",
       "      <td>0.261041</td>\n",
       "      <td>0.072687</td>\n",
       "      <td>0.000000</td>\n",
       "      <td>1</td>\n",
       "    </tr>\n",
       "  </tbody>\n",
       "</table>\n",
       "<p>5 rows × 37 columns</p>\n",
       "</div>"
      ],
      "text/plain": [
       "   CHROM       POS       REF       ALT    AF_ESP   AF_EXAC    AF_TGP  \\\n",
       "0  0.875  0.293401  0.578522  0.799127  0.000000  0.000000  0.000000   \n",
       "1  0.875  0.293908  0.578522  0.661572  0.000000  0.515074  0.379013   \n",
       "2  0.875  0.294209  0.578522  0.799127  0.000000  0.822409  0.771921   \n",
       "3  0.875  0.312446  0.815242  0.661572  0.865939  0.701065  0.511260   \n",
       "4  0.875  0.469365  0.815242  0.661572  0.000000  0.084446  0.643987   \n",
       "\n",
       "   CLNDISDB     CLNDN   CLNHGVS  ...    Codons  STRAND  BAM_EDIT  SIFT  \\\n",
       "0  0.239983  0.194276  0.527505  ...  0.806394  0.0625  0.666667   0.8   \n",
       "1  0.552848  0.898380  0.452553  ...  0.588023  0.0625  0.666667   0.8   \n",
       "2  0.239983  0.194276  0.759112  ...  0.366952  0.0625  0.666667   0.8   \n",
       "3  0.239983  0.194276  0.467724  ...  0.766772  0.0625  0.666667   0.8   \n",
       "4  0.552848  0.898380  0.519298  ...  0.218370  0.0625  0.666667   0.8   \n",
       "\n",
       "   PolyPhen   LoFtool  CADD_PHRED  CADD_RAW  BLOSUM62  CLASS  \n",
       "0       0.8  0.535503    0.001056  0.650358  0.999949      0  \n",
       "1       0.8  0.535503    0.931644  0.090793  0.000000      0  \n",
       "2       0.8  0.535503    0.259697  0.077541  0.000025      1  \n",
       "3       0.8  0.535503    0.884697  0.259080  0.000000      0  \n",
       "4       0.8  0.535503    0.261041  0.072687  0.000000      1  \n",
       "\n",
       "[5 rows x 37 columns]"
      ]
     },
     "execution_count": 2,
     "metadata": {},
     "output_type": "execute_result"
    }
   ],
   "source": [
    "# Initialize useful data\n",
    "# ===========================================================\n",
    "# with open('clinvar_conflicting_mapped.csv', 'r') as f:\n",
    "#     reader = csv.reader(f)\n",
    "#     temp_rows = list(reader)\n",
    "df = pd.read_csv('clinvar_conflicting_mapped.csv', low_memory=False)\n",
    "df.head()"
   ]
  },
  {
   "cell_type": "code",
   "execution_count": 3,
   "metadata": {},
   "outputs": [],
   "source": [
    "df = df.sample(n = df.shape[0])\n",
    "all_rows = df.values.tolist()\n",
    "row_num = len(all_rows)"
   ]
  },
  {
   "cell_type": "code",
   "execution_count": 4,
   "metadata": {},
   "outputs": [],
   "source": [
    "# Divide whole dataset into training set and testing set\n",
    "# ===========================================================\n",
    "training_percentage = 0.01  # percent of partition of training dataset\n",
    "training_size = int(row_num * training_percentage)\n",
    "testing_size = row_num - training_size\n",
    "trainingframe = df.iloc[: training_size]\n",
    "testingframe = df.iloc[training_size: ]\n",
    "trainingset = Table.from_df(trainingframe)\n",
    "testingset = Table.from_df(testingframe)"
   ]
  },
  {
   "cell_type": "code",
   "execution_count": 5,
   "metadata": {},
   "outputs": [
    {
     "name": "stderr",
     "output_type": "stream",
     "text": [
      "/Users/frostace/anaconda3/lib/python3.7/site-packages/ipykernel_launcher.py:22: DeprecationWarning: Calling Family(..) with a link class as argument is deprecated.\n",
      "Use an instance of a link class instead.\n",
      "/Users/frostace/anaconda3/lib/python3.7/site-packages/statsmodels/genmod/families/family.py:890: RuntimeWarning: invalid value encountered in true_divide\n",
      "  n_endog_mu = self._clean((1. - endog) / (1. - mu))\n"
     ]
    },
    {
     "name": "stdout",
     "output_type": "stream",
     "text": [
      "Logistic Regression Model Trained! Time: 0.310s\n"
     ]
    }
   ],
   "source": [
    "# Train Model\n",
    "# ===========================================================\n",
    "formula = 'CLASS ~ CHROM + POS + REF + ALT + AF_ESP + AF_EXAC + AF_TGP + CLNDISDB + CLNDN + CLNVC + CLNVI + MC + ORIGIN + Allele + Consequence + IMPACT + SYMBOL + Feature_type + Feature + BIOTYPE + EXON + INTRON + cDNA_position + CDS_position + Protein_position + Amino_acids + Codons + STRAND + BAM_EDIT + SIFT + PolyPhen + LoFtool + CADD_PHRED + CADD_RAW + BLOSUM62'\n",
    "# formula = 'CLASS ~ CHROM + POS + REF + ALT + AF_ESP + AF_EXAC + AF_TGP + CLNDISDB + CLNDN'\n",
    "# selected_attribute = ['CHROM',\n",
    "#  'POS',\n",
    "#  'REF',\n",
    "#  'ALT',\n",
    "#  'AF_ESP',\n",
    "#  'AF_EXAC',\n",
    "#  'AF_TGP',\n",
    "#  'CLNDISDB',\n",
    "#  'CLNDN']\n",
    "# i removed 'CLNHGVS'\n",
    "# formula = 'CLASS ~ CLNVC + CLNVI + MC + ORIGIN + Allele + Consequence + IMPACT + SYMBOL'\n",
    "# formula = 'CLASS ~ Feature_type + Feature + BIOTYPE + EXON + INTRON + cDNA_position'\n",
    "# formula = 'CLASS ~ CDS_position + Protein_position + Amino_acids + Codons + STRAND + BAM_EDIT'\n",
    "# formula = 'CLASS ~ SIFT + PolyPhen + LoFtool + CADD_PHRED + CADD_RAW + BLOSUM62'\n",
    "start = time.time()\n",
    "model = smf.glm(formula=formula, data=trainingframe, \n",
    "                family=sm.families.Binomial(\n",
    "                link=sm.genmod.families.links.probit))\n",
    "result = model.fit()\n",
    "# result.summary()\n",
    "end = time.time()\n",
    "print(\"Logistic Regression Model Trained! Time: %.03fs\" % (end - start))"
   ]
  },
  {
   "cell_type": "code",
   "execution_count": 20,
   "metadata": {},
   "outputs": [],
   "source": [
    "# Compare Actual label and Predicted label\n",
    "# ===========================================================\n",
    "pred = result.predict(testingset.to_df())\n",
    "final = Table().with_column('IDX', [i for i in range(len(pred))])\n",
    "final = final.with_columns('ACT_CLASS', testingset.select('CLASS').to_df()[['CLASS']].transpose().values.tolist()[0], 'PRE_CLASS', pred.to_numpy())"
   ]
  },
  {
   "cell_type": "code",
   "execution_count": 21,
   "metadata": {},
   "outputs": [
    {
     "data": {
      "text/html": [
       "<table border=\"1\" class=\"dataframe\">\n",
       "    <thead>\n",
       "        <tr>\n",
       "            <th>IDX</th> <th>ACT_CLASS</th> <th>PRE_CLASS</th>\n",
       "        </tr>\n",
       "    </thead>\n",
       "    <tbody>\n",
       "        <tr>\n",
       "            <td>0   </td> <td>0        </td> <td>0.257843 </td>\n",
       "        </tr>\n",
       "        <tr>\n",
       "            <td>1   </td> <td>0        </td> <td>0.224644 </td>\n",
       "        </tr>\n",
       "        <tr>\n",
       "            <td>2   </td> <td>0        </td> <td>0.235662 </td>\n",
       "        </tr>\n",
       "        <tr>\n",
       "            <td>3   </td> <td>0        </td> <td>0.554674 </td>\n",
       "        </tr>\n",
       "        <tr>\n",
       "            <td>4   </td> <td>0        </td> <td>0.442756 </td>\n",
       "        </tr>\n",
       "    </tbody>\n",
       "</table>\n",
       "<p>... (64532 rows omitted)</p>"
      ],
      "text/plain": [
       "<IPython.core.display.HTML object>"
      ]
     },
     "metadata": {},
     "output_type": "display_data"
    }
   ],
   "source": [
    "final.show(5)"
   ]
  },
  {
   "cell_type": "code",
   "execution_count": 22,
   "metadata": {},
   "outputs": [],
   "source": [
    "# Compute TN, TP, FN, FP, etc.\n",
    "# ===========================================================\n",
    "ROC = Table(make_array('CUTOFF', 'TN', 'FN', 'FP', 'TP', 'ACC'))\n",
    "step_size = 0.05\n",
    "for cutoff in np.arange(0, 1 + step_size, step_size):\n",
    "    temp_final = final.with_column('INDICATE', final.apply(lambda x, y: (int(x >= cutoff) << 1) + y, 'PRE_CLASS', 'ACT_CLASS'))\n",
    "    # 00(0) -> TN\n",
    "    # 01(1) -> FN\n",
    "    # 10(2) -> FP\n",
    "    # 11(3) -> TP\n",
    "    group = temp_final.group('INDICATE')\n",
    "    indicator = group.column(0)\n",
    "    counts = group.column(1)\n",
    "#     print(indicator, counts)\n",
    "    output = [cutoff]\n",
    "    idx = 0\n",
    "    for i in range(4):\n",
    "#         print(counts[idx])\n",
    "        if i in indicator:\n",
    "            output.append(counts[idx])\n",
    "            idx += 1\n",
    "        else:\n",
    "            output.append(0)\n",
    "    acc = (output[1] + output[4]) / sum(output[1:])\n",
    "    output.append(acc)\n",
    "    ROC = ROC.with_row(output)\n",
    "ROC = ROC.with_columns('SENSITIVITY', ROC.apply(lambda TP, FN: TP / (TP + FN + 0.00000001), 'TP', 'FN'))\n",
    "ROC = ROC.with_columns('FPR', ROC.apply(lambda TN, FP: FP / (TN + FP + 0.00000001), 'TN', 'FP'))"
   ]
  },
  {
   "cell_type": "code",
   "execution_count": 23,
   "metadata": {},
   "outputs": [
    {
     "data": {
      "text/html": [
       "<table border=\"1\" class=\"dataframe\">\n",
       "    <thead>\n",
       "        <tr>\n",
       "            <th>CUTOFF</th> <th>TN</th> <th>FN</th> <th>FP</th> <th>TP</th> <th>ACC</th> <th>SENSITIVITY</th> <th>FPR</th>\n",
       "        </tr>\n",
       "    </thead>\n",
       "    <tbody>\n",
       "        <tr>\n",
       "            <td>0     </td> <td>0    </td> <td>0    </td> <td>48270</td> <td>16267</td> <td>0.252057</td> <td>1          </td> <td>1          </td>\n",
       "        </tr>\n",
       "        <tr>\n",
       "            <td>0.05  </td> <td>336  </td> <td>65   </td> <td>47934</td> <td>16202</td> <td>0.256256</td> <td>0.996004   </td> <td>0.993039   </td>\n",
       "        </tr>\n",
       "        <tr>\n",
       "            <td>0.1   </td> <td>3290 </td> <td>751  </td> <td>44980</td> <td>15516</td> <td>0.291399</td> <td>0.953833   </td> <td>0.931842   </td>\n",
       "        </tr>\n",
       "        <tr>\n",
       "            <td>0.15  </td> <td>10325</td> <td>2701 </td> <td>37945</td> <td>13566</td> <td>0.370191</td> <td>0.833958   </td> <td>0.786099   </td>\n",
       "        </tr>\n",
       "        <tr>\n",
       "            <td>0.2   </td> <td>19411</td> <td>5591 </td> <td>28859</td> <td>10676</td> <td>0.466198</td> <td>0.656298   </td> <td>0.597866   </td>\n",
       "        </tr>\n",
       "        <tr>\n",
       "            <td>0.25  </td> <td>28092</td> <td>8603 </td> <td>20178</td> <td>7664 </td> <td>0.554039</td> <td>0.471138   </td> <td>0.418024   </td>\n",
       "        </tr>\n",
       "        <tr>\n",
       "            <td>0.3   </td> <td>35114</td> <td>11267</td> <td>13156</td> <td>5000 </td> <td>0.621566</td> <td>0.307371   </td> <td>0.27255    </td>\n",
       "        </tr>\n",
       "        <tr>\n",
       "            <td>0.35  </td> <td>40391</td> <td>13155</td> <td>7879 </td> <td>3112 </td> <td>0.674078</td> <td>0.191308   </td> <td>0.163228   </td>\n",
       "        </tr>\n",
       "        <tr>\n",
       "            <td>0.4   </td> <td>43892</td> <td>14492</td> <td>4378 </td> <td>1775 </td> <td>0.70761 </td> <td>0.109117   </td> <td>0.0906982  </td>\n",
       "        </tr>\n",
       "        <tr>\n",
       "            <td>0.45  </td> <td>46001</td> <td>15281</td> <td>2269 </td> <td>986  </td> <td>0.728063</td> <td>0.0606135  </td> <td>0.0470064  </td>\n",
       "        </tr>\n",
       "        <tr>\n",
       "            <td>0.5   </td> <td>47143</td> <td>15786</td> <td>1127 </td> <td>481  </td> <td>0.737933</td> <td>0.0295691  </td> <td>0.0233478  </td>\n",
       "        </tr>\n",
       "        <tr>\n",
       "            <td>0.55  </td> <td>47760</td> <td>16075</td> <td>510  </td> <td>192  </td> <td>0.743016</td> <td>0.011803   </td> <td>0.0105656  </td>\n",
       "        </tr>\n",
       "        <tr>\n",
       "            <td>0.6   </td> <td>48050</td> <td>16182</td> <td>220  </td> <td>85   </td> <td>0.745851</td> <td>0.0052253  </td> <td>0.0045577  </td>\n",
       "        </tr>\n",
       "        <tr>\n",
       "            <td>0.65  </td> <td>48183</td> <td>16236</td> <td>87   </td> <td>31   </td> <td>0.747075</td> <td>0.0019057  </td> <td>0.00180236 </td>\n",
       "        </tr>\n",
       "        <tr>\n",
       "            <td>0.7   </td> <td>48244</td> <td>16257</td> <td>26   </td> <td>10   </td> <td>0.747695</td> <td>0.000614742</td> <td>0.000538637</td>\n",
       "        </tr>\n",
       "        <tr>\n",
       "            <td>0.75  </td> <td>48264</td> <td>16266</td> <td>6    </td> <td>1    </td> <td>0.747866</td> <td>6.14742e-05</td> <td>0.000124301</td>\n",
       "        </tr>\n",
       "        <tr>\n",
       "            <td>0.8   </td> <td>48270</td> <td>16267</td> <td>0    </td> <td>0    </td> <td>0.747943</td> <td>0          </td> <td>0          </td>\n",
       "        </tr>\n",
       "        <tr>\n",
       "            <td>0.85  </td> <td>48270</td> <td>16267</td> <td>0    </td> <td>0    </td> <td>0.747943</td> <td>0          </td> <td>0          </td>\n",
       "        </tr>\n",
       "        <tr>\n",
       "            <td>0.9   </td> <td>48270</td> <td>16267</td> <td>0    </td> <td>0    </td> <td>0.747943</td> <td>0          </td> <td>0          </td>\n",
       "        </tr>\n",
       "        <tr>\n",
       "            <td>0.95  </td> <td>48270</td> <td>16267</td> <td>0    </td> <td>0    </td> <td>0.747943</td> <td>0          </td> <td>0          </td>\n",
       "        </tr>\n",
       "        <tr>\n",
       "            <td>1     </td> <td>48270</td> <td>16267</td> <td>0    </td> <td>0    </td> <td>0.747943</td> <td>0          </td> <td>0          </td>\n",
       "        </tr>\n",
       "    </tbody>\n",
       "</table>"
      ],
      "text/plain": [
       "<IPython.core.display.HTML object>"
      ]
     },
     "metadata": {},
     "output_type": "display_data"
    }
   ],
   "source": [
    "ROC.show()"
   ]
  },
  {
   "cell_type": "code",
   "execution_count": 24,
   "metadata": {},
   "outputs": [
    {
     "data": {
      "image/png": "[encoded data removed]",
      "text/plain": [
       "<Figure size 432x288 with 1 Axes>"
      ]
     },
     "metadata": {
      "needs_background": "light"
     },
     "output_type": "display_data"
    }
   ],
   "source": [
    "# Acc Curve by cutoff\n",
    "# ===========================================================\n",
    "fig = plt.figure()\n",
    "plt.xlabel('Cutoff')\n",
    "plt.ylabel('Accuracy')\n",
    "plt.title('Accuracy - Cutoff of Logistic Regression')\n",
    "plt.plot(ROC.column('CUTOFF'), ROC.column('ACC'), color='orange')\n",
    "plt.show()\n",
    "fig.savefig('Logistic ACC.png', bbox_inches='tight')"
   ]
  },
  {
   "cell_type": "code",
   "execution_count": 25,
   "metadata": {},
   "outputs": [
    {
     "data": {
      "image/png": "[encoded data removed]",
      "text/plain": [
       "<Figure size 432x288 with 1 Axes>"
      ]
     },
     "metadata": {
      "needs_background": "light"
     },
     "output_type": "display_data"
    }
   ],
   "source": [
    "# ROC_CURVE\n",
    "# ===========================================================\n",
    "fig = plt.figure()\n",
    "plt.xlabel('False Positive Rate')\n",
    "plt.ylabel('Sensitivity')\n",
    "plt.title('ROC - Curve of Logistic Regression')\n",
    "plt.plot(ROC.column('FPR'), ROC.column('SENSITIVITY'), color='orange')\n",
    "plt.plot(np.arange(0, 1.1, 0.1), np.arange(0, 1.1, 0.1), color='black')\n",
    "plt.legend(['Logistic', 'Null'])\n",
    "plt.axis([0, 1, 0, 1])\n",
    "plt.show()\n",
    "fig.savefig('Logistic ROC.png', bbox_inches='tight')"
   ]
  },
  {
   "cell_type": "code",
   "execution_count": 29,
   "metadata": {},
   "outputs": [
    {
     "name": "stdout",
     "output_type": "stream",
     "text": [
      "auc = 0.538\n"
     ]
    }
   ],
   "source": [
    "# Compute AUC\n",
    "# ===========================================================\n",
    "length = len(ROC.column('FPR'))\n",
    "auc = 0\n",
    "for i in range(length - 1):\n",
    "    auc += 0.5 * abs(ROC.column('FPR')[i + 1] - ROC.column('FPR')[i]) * (ROC.column('SENSITIVITY')[i] + ROC.column('SENSITIVITY')[i + 1])\n",
    "print(\"auc = %.03f\" %auc)"
   ]
  },
  {
   "cell_type": "code",
   "execution_count": 124,
   "metadata": {},
   "outputs": [],
   "source": [
    "# import sklearn\n",
    "# from sklearn.linear_model import LogisticRegression\n",
    "# from sklearn.cross_validation import train_test_split\n",
    "\n",
    "# # Normalize grades to values between 0 and 1 for more efficient computation\n",
    "# normalized_range = sklearn.preprocessing.MinMaxScaler(feature_range=(-1,1))\n",
    "\n",
    "# # Extract Features + Labels\n",
    "# labels.shape =  (100,) #scikit expects this\n",
    "# features = normalized_range.fit_transform(features)\n",
    "\n",
    "# # Create Test/Train\n",
    "# features_train,features_test,labels_train,labels_test = train_test_split(features,labels,test_size=0.4)\n",
    "\n",
    "# # Scikit Logistic Regression\n",
    "# scikit_log_reg = LogisticRegression()\n",
    "# scikit_log_reg.fit(features_train,labels_train)\n",
    "\n",
    "# #Score is Mean Accuracy\n",
    "# scikit_score = clf.score(features_test,labels_test)\n",
    "# print('Scikit score: ', scikit_score)"
   ]
  },
  {
   "cell_type": "code",
   "execution_count": null,
   "metadata": {},
   "outputs": [],
   "source": []
  },
  {
   "cell_type": "code",
   "execution_count": null,
   "metadata": {},
   "outputs": [],
   "source": []
  }
 ],
 "metadata": {
  "kernelspec": {
   "display_name": "Python 3",
   "language": "python",
   "name": "python3"
  },
  "language_info": {
   "codemirror_mode": {
    "name": "ipython",
    "version": 3
   },
   "file_extension": ".py",
   "mimetype": "text/x-python",
   "name": "python",
   "nbconvert_exporter": "python",
   "pygments_lexer": "ipython3",
   "version": "3.7.3"
  }
 },
 "nbformat": 4,
 "nbformat_minor": 4
}
