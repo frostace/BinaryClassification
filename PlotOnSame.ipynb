{
 "cells": [
  {
   "cell_type": "code",
   "execution_count": 2,
   "metadata": {},
   "outputs": [],
   "source": [
    "# plot_hardcode\n",
    "# import lib\n",
    "# ===========================================================\n",
    "import csv\n",
    "import pandas as pd\n",
    "from datascience import *\n",
    "import numpy as np\n",
    "import random\n",
    "import time\n",
    "import matplotlib.pyplot as plt\n",
    "%matplotlib inline\n",
    "plt.style.use('fivethirtyeight')\n",
    "import collections\n",
    "import math\n",
    "import sys\n",
    "from tqdm import tqdm\n",
    "from time import sleep"
   ]
  },
  {
   "cell_type": "code",
   "execution_count": 8,
   "metadata": {},
   "outputs": [
    {
     "ename": "SyntaxError",
     "evalue": "invalid syntax (<ipython-input-8-f219bdd3ca5d>, line 5)",
     "output_type": "error",
     "traceback": [
      "\u001b[0;36m  File \u001b[0;32m\"<ipython-input-8-f219bdd3ca5d>\"\u001b[0;36m, line \u001b[0;32m5\u001b[0m\n\u001b[0;31m    DT_ACC = np.\u001b[0m\n\u001b[0m                ^\u001b[0m\n\u001b[0;31mSyntaxError\u001b[0m\u001b[0;31m:\u001b[0m invalid syntax\n"
     ]
    }
   ],
   "source": [
    "# Logistic Regression\n",
    "LR_CUTOFF = np.arange(0, 1 + 0.05, 0.05)\n",
    "LR_ACC = np.array([0.25219641, 0.2550165 , 0.27901824, 0.34265615, 0.42986194,\n",
    "       0.51922153, 0.5956738 , 0.65570138, 0.69518261, 0.72062538,\n",
    "       0.73441592, 0.74180703, 0.74504548, 0.74659498, 0.74752468,\n",
    "       0.74772611, 0.74771062, 0.74774161, 0.7477571 , 0.7477571 ,\n",
    "       0.7477571 ])\n",
    "LR_FPR = np.array([1.00000000e+00, 9.95234247e-01, 9.52922650e-01, 8.37114855e-01,\n",
    "       6.69132426e-01, 4.92447318e-01, 3.34369367e-01, 2.10169702e-01,\n",
    "       1.22645614e-01, 6.57466692e-02, 3.28215329e-02, 1.54161746e-02,\n",
    "       6.81709869e-03, 2.90089306e-03, 1.03603324e-03, 4.97295953e-04,\n",
    "       3.93692630e-04, 3.52251300e-04, 3.31530636e-04, 3.31530636e-04,\n",
    "       3.31530636e-04])\n",
    "LR_TPR = np.array([1.00000000e+00, 9.97050872e-01, 9.66760875e-01, 8.75706562e-01,\n",
    "       7.23396412e-01, 5.53821578e-01, 3.88240354e-01, 2.57987220e-01,\n",
    "       1.55013517e-01, 8.71835832e-02, 4.42369132e-02, 2.19341362e-02,\n",
    "       9.27746375e-03, 3.80928975e-03, 1.96608503e-03, 1.16736299e-03,\n",
    "       7.98722045e-04, 7.98722045e-04, 7.98722045e-04, 7.98722045e-04,\n",
    "       7.98722045e-04])\n",
    "\n",
    "# Decision Tree\n",
    "DT_CUTOFF = np.arange(0, 1 + 0.05, 0.05)\n",
    "DT_ACC = np.\n",
    "\n",
    "DT_FPR = np.\n",
    "DT_TPR = np.\n",
    "\n",
    "# Random Forest\n",
    "RF_CUTOFF = np.arange(0, 1 + 0.05, 0.05)\n",
    "RF_ACC = np.array([0.25238235, 0.37572245, 0.50361808, 0.50361808, 0.61374095,\n",
    "       0.61374095, 0.68238375, 0.68238375, 0.72096627, 0.72096627,\n",
    "       0.74007159, 0.74007159, 0.74619211, 0.74619211, 0.74754017,\n",
    "       0.74754017, 0.74755567, 0.74755567, 0.74764864, 0.74764864,\n",
    "       0.74761765])\n",
    "\n",
    "RF_FPR = np.array([1.00000000e+00, 8.52679126e-01, 6.34681530e-01, 6.34681530e-01,\n",
    "       4.12084041e-01, 4.12084041e-01, 2.35008910e-01, 2.35008910e-01,\n",
    "       1.19017032e-01, 1.19017032e-01, 4.99150470e-02, 4.99150470e-02,\n",
    "       1.57473789e-02, 1.57473789e-02, 3.60532096e-03, 3.60532096e-03,\n",
    "       3.31523766e-04, 3.31523766e-04, 0.00000000e+00, 0.00000000e+00,\n",
    "       0.00000000e+00])\n",
    "RF_TPR = np.array([1.00000000e+00, 9.57665131e-01, 8.36804916e-01, 8.36804916e-01,\n",
    "       6.40675883e-01, 6.40675883e-01, 4.27403994e-01, 4.27403994e-01,\n",
    "       2.48847926e-01, 2.48847926e-01, 1.18955453e-01, 1.18955453e-01,\n",
    "       4.00614439e-02, 4.00614439e-02, 9.52380952e-03, 9.52380952e-03,\n",
    "       1.47465438e-03, 1.47465438e-03, 6.14439324e-05, 6.14439324e-05,\n",
    "       0.00000000e+00])"
   ]
  },
  {
   "cell_type": "code",
   "execution_count": null,
   "metadata": {},
   "outputs": [],
   "source": []
  },
  {
   "cell_type": "code",
   "execution_count": null,
   "metadata": {},
   "outputs": [],
   "source": []
  },
  {
   "cell_type": "code",
   "execution_count": null,
   "metadata": {},
   "outputs": [],
   "source": []
  },
  {
   "cell_type": "code",
   "execution_count": null,
   "metadata": {},
   "outputs": [],
   "source": []
  }
 ],
 "metadata": {
  "kernelspec": {
   "display_name": "Python 3",
   "language": "python",
   "name": "python3"
  },
  "language_info": {
   "codemirror_mode": {
    "name": "ipython",
    "version": 3
   },
   "file_extension": ".py",
   "mimetype": "text/x-python",
   "name": "python",
   "nbconvert_exporter": "python",
   "pygments_lexer": "ipython3",
   "version": "3.7.3"
  }
 },
 "nbformat": 4,
 "nbformat_minor": 4
}
