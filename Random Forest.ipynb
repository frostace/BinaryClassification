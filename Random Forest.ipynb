{
 "cells": [
  {
   "cell_type": "code",
   "execution_count": 3,
   "metadata": {},
   "outputs": [],
   "source": [
    "# import lib\n",
    "# ===========================================================\n",
    "import csv\n",
    "import pandas as pd\n",
    "from datascience import *\n",
    "import numpy as np\n",
    "import random\n",
    "import time\n",
    "import matplotlib.pyplot as plt\n",
    "%matplotlib inline\n",
    "plt.style.use('fivethirtyeight')\n",
    "import collections\n",
    "import math\n",
    "import sys\n",
    "from tqdm import tqdm\n",
    "from time import sleep"
   ]
  },
  {
   "cell_type": "code",
   "execution_count": 4,
   "metadata": {},
   "outputs": [
    {
     "data": {
      "text/html": [
       "<div>\n",
       "<style scoped>\n",
       "    .dataframe tbody tr th:only-of-type {\n",
       "        vertical-align: middle;\n",
       "    }\n",
       "\n",
       "    .dataframe tbody tr th {\n",
       "        vertical-align: top;\n",
       "    }\n",
       "\n",
       "    .dataframe thead th {\n",
       "        text-align: right;\n",
       "    }\n",
       "</style>\n",
       "<table border=\"1\" class=\"dataframe\">\n",
       "  <thead>\n",
       "    <tr style=\"text-align: right;\">\n",
       "      <th></th>\n",
       "      <th>CHROM</th>\n",
       "      <th>POS</th>\n",
       "      <th>REF</th>\n",
       "      <th>ALT</th>\n",
       "      <th>AF_ESP</th>\n",
       "      <th>AF_EXAC</th>\n",
       "      <th>AF_TGP</th>\n",
       "      <th>CLNDISDB</th>\n",
       "      <th>CLNDN</th>\n",
       "      <th>CLNHGVS</th>\n",
       "      <th>...</th>\n",
       "      <th>Codons</th>\n",
       "      <th>STRAND</th>\n",
       "      <th>BAM_EDIT</th>\n",
       "      <th>SIFT</th>\n",
       "      <th>PolyPhen</th>\n",
       "      <th>LoFtool</th>\n",
       "      <th>CADD_PHRED</th>\n",
       "      <th>CADD_RAW</th>\n",
       "      <th>BLOSUM62</th>\n",
       "      <th>CLASS</th>\n",
       "    </tr>\n",
       "  </thead>\n",
       "  <tbody>\n",
       "    <tr>\n",
       "      <th>54426</th>\n",
       "      <td>17</td>\n",
       "      <td>59763229</td>\n",
       "      <td>A</td>\n",
       "      <td>T</td>\n",
       "      <td>0.0002</td>\n",
       "      <td>0.00001</td>\n",
       "      <td>0.0000</td>\n",
       "      <td>MedGen:C0027672,SNOMED_CT:699346009|MedGen:C03...</td>\n",
       "      <td>Hereditary_cancer-predisposing_syndrome|Famili...</td>\n",
       "      <td>NC_000017.10:g.59763229A&gt;T</td>\n",
       "      <td>...</td>\n",
       "      <td>cTa/cAa</td>\n",
       "      <td>-1.0</td>\n",
       "      <td>null</td>\n",
       "      <td>tolerated_low_confidence</td>\n",
       "      <td>possibly_damaging</td>\n",
       "      <td>0.64000</td>\n",
       "      <td>0.704</td>\n",
       "      <td>-0.288928</td>\n",
       "      <td>-2.0</td>\n",
       "      <td>0</td>\n",
       "    </tr>\n",
       "    <tr>\n",
       "      <th>5039</th>\n",
       "      <td>2</td>\n",
       "      <td>44223046</td>\n",
       "      <td>G</td>\n",
       "      <td>C</td>\n",
       "      <td>0.0141</td>\n",
       "      <td>0.00226</td>\n",
       "      <td>0.0256</td>\n",
       "      <td>MedGen:C0023264,OMIM:256000,Orphanet:ORPHA506,...</td>\n",
       "      <td>Leigh_syndrome|not_specified</td>\n",
       "      <td>NC_000002.11:g.44223046G&gt;C</td>\n",
       "      <td>...</td>\n",
       "      <td>gCc/gGc</td>\n",
       "      <td>-1.0</td>\n",
       "      <td>OK</td>\n",
       "      <td>tolerated</td>\n",
       "      <td>benign</td>\n",
       "      <td>0.79200</td>\n",
       "      <td>9.852</td>\n",
       "      <td>0.863795</td>\n",
       "      <td>NaN</td>\n",
       "      <td>0</td>\n",
       "    </tr>\n",
       "    <tr>\n",
       "      <th>53637</th>\n",
       "      <td>17</td>\n",
       "      <td>41256896</td>\n",
       "      <td>G</td>\n",
       "      <td>C</td>\n",
       "      <td>0.0000</td>\n",
       "      <td>0.00000</td>\n",
       "      <td>0.0000</td>\n",
       "      <td>MedGen:C0027672,SNOMED_CT:699346009|MedGen:C06...</td>\n",
       "      <td>Hereditary_cancer-predisposing_syndrome|Heredi...</td>\n",
       "      <td>NC_000017.10:g.41256896G&gt;C</td>\n",
       "      <td>...</td>\n",
       "      <td>aCa/aGa</td>\n",
       "      <td>-1.0</td>\n",
       "      <td>OK</td>\n",
       "      <td>deleterious</td>\n",
       "      <td>probably_damaging</td>\n",
       "      <td>0.00207</td>\n",
       "      <td>26.200</td>\n",
       "      <td>5.477346</td>\n",
       "      <td>-1.0</td>\n",
       "      <td>0</td>\n",
       "    </tr>\n",
       "    <tr>\n",
       "      <th>62170</th>\n",
       "      <td>22</td>\n",
       "      <td>19902743</td>\n",
       "      <td>G</td>\n",
       "      <td>C</td>\n",
       "      <td>0.0000</td>\n",
       "      <td>0.00000</td>\n",
       "      <td>0.0000</td>\n",
       "      <td>EFO:EFO_0000407,Human_Phenotype_Ontology:HP:00...</td>\n",
       "      <td>Primary_dilated_cardiomyopathy|not_specified</td>\n",
       "      <td>NC_000022.10:g.19902743G&gt;C</td>\n",
       "      <td>...</td>\n",
       "      <td>ccC/ccG</td>\n",
       "      <td>-1.0</td>\n",
       "      <td>null</td>\n",
       "      <td>null</td>\n",
       "      <td>null</td>\n",
       "      <td>0.59700</td>\n",
       "      <td>8.830</td>\n",
       "      <td>0.700454</td>\n",
       "      <td>NaN</td>\n",
       "      <td>0</td>\n",
       "    </tr>\n",
       "    <tr>\n",
       "      <th>2121</th>\n",
       "      <td>1</td>\n",
       "      <td>103345315</td>\n",
       "      <td>C</td>\n",
       "      <td>T</td>\n",
       "      <td>0.0002</td>\n",
       "      <td>0.00044</td>\n",
       "      <td>0.0000</td>\n",
       "      <td>MedGen:C0265235,OMIM:154780,SNOMED_CT:33410002...</td>\n",
       "      <td>Marshall_syndrome|Fibrochondrogenesis|not_spec...</td>\n",
       "      <td>NC_000001.10:g.103345315C&gt;T</td>\n",
       "      <td>...</td>\n",
       "      <td>cGc/cAc</td>\n",
       "      <td>-1.0</td>\n",
       "      <td>null</td>\n",
       "      <td>tolerated</td>\n",
       "      <td>benign</td>\n",
       "      <td>0.00944</td>\n",
       "      <td>24.500</td>\n",
       "      <td>4.658146</td>\n",
       "      <td>NaN</td>\n",
       "      <td>0</td>\n",
       "    </tr>\n",
       "  </tbody>\n",
       "</table>\n",
       "<p>5 rows × 37 columns</p>\n",
       "</div>"
      ],
      "text/plain": [
       "      CHROM        POS REF ALT  AF_ESP  AF_EXAC  AF_TGP  \\\n",
       "54426    17   59763229   A   T  0.0002  0.00001  0.0000   \n",
       "5039      2   44223046   G   C  0.0141  0.00226  0.0256   \n",
       "53637    17   41256896   G   C  0.0000  0.00000  0.0000   \n",
       "62170    22   19902743   G   C  0.0000  0.00000  0.0000   \n",
       "2121      1  103345315   C   T  0.0002  0.00044  0.0000   \n",
       "\n",
       "                                                CLNDISDB  \\\n",
       "54426  MedGen:C0027672,SNOMED_CT:699346009|MedGen:C03...   \n",
       "5039   MedGen:C0023264,OMIM:256000,Orphanet:ORPHA506,...   \n",
       "53637  MedGen:C0027672,SNOMED_CT:699346009|MedGen:C06...   \n",
       "62170  EFO:EFO_0000407,Human_Phenotype_Ontology:HP:00...   \n",
       "2121   MedGen:C0265235,OMIM:154780,SNOMED_CT:33410002...   \n",
       "\n",
       "                                                   CLNDN  \\\n",
       "54426  Hereditary_cancer-predisposing_syndrome|Famili...   \n",
       "5039                        Leigh_syndrome|not_specified   \n",
       "53637  Hereditary_cancer-predisposing_syndrome|Heredi...   \n",
       "62170       Primary_dilated_cardiomyopathy|not_specified   \n",
       "2121   Marshall_syndrome|Fibrochondrogenesis|not_spec...   \n",
       "\n",
       "                           CLNHGVS  ...   Codons STRAND BAM_EDIT  \\\n",
       "54426   NC_000017.10:g.59763229A>T  ...  cTa/cAa   -1.0     null   \n",
       "5039    NC_000002.11:g.44223046G>C  ...  gCc/gGc   -1.0       OK   \n",
       "53637   NC_000017.10:g.41256896G>C  ...  aCa/aGa   -1.0       OK   \n",
       "62170   NC_000022.10:g.19902743G>C  ...  ccC/ccG   -1.0     null   \n",
       "2121   NC_000001.10:g.103345315C>T  ...  cGc/cAc   -1.0     null   \n",
       "\n",
       "                           SIFT           PolyPhen  LoFtool CADD_PHRED  \\\n",
       "54426  tolerated_low_confidence  possibly_damaging  0.64000      0.704   \n",
       "5039                  tolerated             benign  0.79200      9.852   \n",
       "53637               deleterious  probably_damaging  0.00207     26.200   \n",
       "62170                      null               null  0.59700      8.830   \n",
       "2121                  tolerated             benign  0.00944     24.500   \n",
       "\n",
       "       CADD_RAW BLOSUM62 CLASS  \n",
       "54426 -0.288928     -2.0     0  \n",
       "5039   0.863795      NaN     0  \n",
       "53637  5.477346     -1.0     0  \n",
       "62170  0.700454      NaN     0  \n",
       "2121   4.658146      NaN     0  \n",
       "\n",
       "[5 rows x 37 columns]"
      ]
     },
     "execution_count": 4,
     "metadata": {},
     "output_type": "execute_result"
    }
   ],
   "source": [
    "# Initialize useful data\n",
    "# ===========================================================\n",
    "df = pd.read_csv('clinvar_conflicting_clean.csv', low_memory=False)\n",
    "columns_to_change = ['ORIGIN', 'EXON', 'INTRON', 'STRAND', 'LoFtool', 'CADD_PHRED', 'CADD_RAW', 'BLOSUM62']\n",
    "df[['CLNVI', 'MC', 'SYMBOL', 'Feature_type', 'Feature', 'BIOTYPE', \n",
    " 'cDNA_position', 'CDS_position', 'Protein_position', 'Amino_acids', 'Codons', \n",
    " 'BAM_EDIT', 'SIFT', 'PolyPhen']] = df[['CLNVI', 'MC', 'SYMBOL', 'Feature_type', 'Feature', 'BIOTYPE', \n",
    " 'cDNA_position', 'CDS_position', 'Protein_position', 'Amino_acids', 'Codons', \n",
    " 'BAM_EDIT', 'SIFT', 'PolyPhen']].fillna(value=\"null\")\n",
    "# df_zero = df.loc[df['CLASS'] == 0]\n",
    "# df_zero = df_zero.sample(n=10000)\n",
    "# df_one = df.loc[df['CLASS'] == 1]\n",
    "# df_one = df_one.sample(n=10000)\n",
    "\n",
    "# df = pd.concat([df_zero, df_one])\n",
    "df = df.sample(n = df.shape[0])\n",
    "all_rows = df.values.tolist()\n",
    "row_num = len(all_rows)\n",
    "df.head()"
   ]
  },
  {
   "cell_type": "code",
   "execution_count": 10,
   "metadata": {},
   "outputs": [],
   "source": [
    "# Decision stump part for Random Forest\n",
    "# ===========================================================\n",
    "def is_numeric(value):\n",
    "    return isinstance(value, int) or isinstance(value, float)\n",
    "\n",
    "# === LeafNode is the prediction result of this branch ===\n",
    "class LeafNode:\n",
    "    def __init__(self, rows):\n",
    "        labels = [row[-1] for row in rows]\n",
    "        self.prediction = collections.Counter(labels)\n",
    "\n",
    "# === DecisionNode is an attribute / question used to partition the data ===\n",
    "class DecisionNode:\n",
    "    def __init__(self, question = None, left_branch = None, right_branch = None):\n",
    "        self.question = question\n",
    "        self.left_branch = left_branch\n",
    "        self.right_branch = right_branch\n",
    "    \n",
    "class DecisionTree:\n",
    "    def __init__(self, all_attribs, training_attribs, training_data, method = \"CART\"):\n",
    "        self.attribute = training_attribs     # takein attribute and data separately\n",
    "        self.train = training_data\n",
    "        self.row_num = len(self.train)\n",
    "        self.attribute_colNums = [all_attribs.index(att) for att in training_attribs]\n",
    "        self.method = method.upper()            # convert to upper case for general use\n",
    "        self.labels = self.uniq_val(-1)\n",
    "        if self.method not in [\"C4.5\", \"CART\", \"HYBRID\"]:\n",
    "            print(\"Error: Please choose a valid method!\")\n",
    "            return None\n",
    "        self.root = self.build_tree(self.train)\n",
    "    \n",
    "    def uniq_val(self, column):\n",
    "        return set([self.train[i][column] for i in range(len(self.train))])\n",
    "    \n",
    "    # === when raising a question ===\n",
    "    # if it's a categorical attribute, we simply iterate all categories\n",
    "    # if it's a numeric attribute, we iterate the set of possible numeric values \n",
    "    class Question:\n",
    "        def __init__(self, column, ref_value):\n",
    "            self.column = column\n",
    "            self.ref_value = ref_value if ref_value else \"None\"\n",
    "#             self.attri = attribute\n",
    "\n",
    "        def match(self, row):\n",
    "            if is_numeric(self.ref_value):\n",
    "                try:\n",
    "                    return row[self.column] >= self.ref_value\n",
    "                except:\n",
    "                    print(\"Error occured in \", row)\n",
    "                    return True\n",
    "            else:\n",
    "                return row[self.column] == self.ref_value\n",
    "\n",
    "        def __repr__(self):\n",
    "            operand = \">=\" if is_numeric(self.ref_value) else \"==\"\n",
    "            return \"Is %s %s %s?\" % (self.attri[self.column], operand, str(self.ref_value))\n",
    "    \n",
    "    # === Method 1 - C4.5 ===\n",
    "    def entropy(self, rows):\n",
    "        # === Bits used to store the information ===\n",
    "        labels = [row[-1] for row in rows]\n",
    "        frequency = collections.Counter(labels).values()\n",
    "        pop = sum(frequency)\n",
    "        H = 0\n",
    "        for f in frequency:\n",
    "            p = f / pop\n",
    "            H -= p * math.log(p, 2)\n",
    "        return H\n",
    "    \n",
    "    # === Method 2 - CART ===\n",
    "    def gini(self, rows):\n",
    "        # === Probability of misclassifying any of your label, which is impurity ===\n",
    "        labels = [row[-1] for row in rows]\n",
    "        frequency = collections.Counter(labels).values()\n",
    "        pop = sum(frequency)\n",
    "        gini = 1\n",
    "        for f in frequency:\n",
    "            p = f / pop\n",
    "            gini -= p ** 2\n",
    "        return gini\n",
    "    \n",
    "    # === Calculate Gain Info ===\n",
    "    # I'm actually returning the gain info reduction\n",
    "    def info(self, branches, root):\n",
    "        # === Objective: to find the best question which can maximize info ===\n",
    "        root_size = float(len(root))\n",
    "        if self.method == \"C4.5\":  # Here I pick the GainRatio Approach\n",
    "            root_uncertainty = self.entropy(root)\n",
    "            gain_info = root_uncertainty\n",
    "            split_info = 0\n",
    "            for branch in branches:\n",
    "                if not branch: continue\n",
    "                gain_info -= len(branch) / root_size * self.entropy(branch)\n",
    "                split_info -= float(len(branch)) / root_size * math.log(float(len(branch)) / root_size)\n",
    "#                 print(gain_info, split_info)\n",
    "            return gain_info / split_info\n",
    "        elif self.method == \"CART\":\n",
    "            root_uncertainty = self.gini(root)\n",
    "            gain_info = root_uncertainty\n",
    "            for branch in branches:\n",
    "                if not branch: continue\n",
    "                gain_info -= len(branch) / root_size * self.gini(branch)\n",
    "            return gain_info\n",
    "        elif self.method == \"HYBRID\":\n",
    "            pass\n",
    "        pass\n",
    "    \n",
    "    # Divide rows according to the question to true_rows and false_rows\n",
    "    # === Here I only do Binary Partitions ===\n",
    "    def partition(self, rows, question):\n",
    "        true_rows = []\n",
    "        false_rows = []\n",
    "        for row in rows:\n",
    "            if question.match(row):\n",
    "                true_rows.append(row)\n",
    "            else:\n",
    "                false_rows.append(row)\n",
    "        return true_rows, false_rows\n",
    "    \n",
    "    def find_best_question(self, rows):\n",
    "        max_info_attenuation = 0\n",
    "        best_question = self.Question(self.attribute_colNums[0], self.train[0][self.attribute_colNums[0]])\n",
    "        # === Iterate through all question candidates ===\n",
    "        # === TODO: Maybe Iteration here can be optimized ===\n",
    "        for col in self.attribute_colNums: # minus 1 to avoid using the label as attribute\n",
    "            ref_candidates = self.uniq_val(col)\n",
    "            for ref_value in ref_candidates:\n",
    "                if ref_value == \"null\" or not isinstance(ref_value, str) and np.isnan(ref_value): continue # avoid using null values to generate a question\n",
    "                q = self.Question(col, ref_value)\n",
    "                temp_true_rows, temp_false_rows = self.partition(rows, q)\n",
    "                temp_info_attenuation = self.info([temp_true_rows, temp_false_rows], rows)\n",
    "                if temp_info_attenuation >= max_info_attenuation:\n",
    "                    max_info_attenuation = temp_info_attenuation\n",
    "                    best_question = q\n",
    "        return max_info_attenuation, best_question\n",
    "    \n",
    "    # === Input rows of data with attributes and labels ===\n",
    "    def build_tree(self, rows):\n",
    "        # === Assign all rows as root of the whole decision tree ===\n",
    "        # === We have met the leaf node if gini(rows) is 0 or no question candidates left ===\n",
    "        gain_reduction, q = self.find_best_question(rows)\n",
    "        # gain here is actually info reduction\n",
    "        if gain_reduction <= 0.001:\n",
    "            return LeafNode(rows)\n",
    "        true_rows, false_rows = self.partition(rows, q)\n",
    "        # === Recursion after we have found a optimal question ===\n",
    "        return DecisionNode(q, self.build_tree(true_rows), self.build_tree(false_rows))\n",
    "    \n",
    "    # === Input a row of data with attributes (and no label), predict its label with our decision tree ===\n",
    "    # === Actually it can contain a label, we just don't use it ===\n",
    "    # === walk down the decision tree until we reach the leaf node ===\n",
    "    def classify(self, row, node):\n",
    "        if isinstance(node, LeafNode):\n",
    "#             print(\"===\", node.prediction)\n",
    "            return node.prediction\n",
    "        \n",
    "        if node.question.match(row):\n",
    "#             print(node.question, True)\n",
    "            return self.classify(row, node.left_branch)\n",
    "        else:\n",
    "#             print(node.question, False)\n",
    "            return self.classify(row, node.right_branch)\n",
    "    \n",
    "    def print_tree(self, node, spacing=\"\"):\n",
    "        # Base case: we've reached a leaf\n",
    "        if isinstance(node, LeafNode):\n",
    "            print (spacing + \"Predict\", node.prediction)\n",
    "            return\n",
    "\n",
    "        # Print the question at this node\n",
    "        print (spacing + str(node.question))\n",
    "\n",
    "        # Call this function recursively on the true branch\n",
    "        print (spacing + '--> True:')\n",
    "        self.print_tree(node.left_branch, spacing + \"  \")\n",
    "\n",
    "        # Call this function recursively on the false branch\n",
    "        print (spacing + '--> False:')\n",
    "        self.print_tree(node.right_branch, spacing + \"  \")\n",
    "    \n",
    "'''    def test(self):\n",
    "        for i in range(self.column_num):\n",
    "            q = self.Question(i, self.train[1][i], self.attribute)\n",
    "            print(q)\n",
    "            print(q.match(1))'''\n",
    "    \n",
    "def bootstrapped_dataset(rows, size):\n",
    "    n = len(rows)\n",
    "    bootstrapped_rows = []\n",
    "    # here i should pick rand_idx with replacement, which is bootstrapping\n",
    "    rand_idx = np.random.choice(n, size, replace=True)\n",
    "    for i in rand_idx:\n",
    "        bootstrapped_rows.append(rows[i])\n",
    "    return bootstrapped_rows"
   ]
  },
  {
   "cell_type": "code",
   "execution_count": 11,
   "metadata": {},
   "outputs": [],
   "source": [
    "# Divide whole dataset into training set and testing set\n",
    "# ===========================================================\n",
    "training_percentage = 0.01  # percent of partition of training dataset\n",
    "training_size = int(row_num * training_percentage)\n",
    "testing_size = row_num - training_size\n",
    "training_attribute = list(df.columns)\n",
    "training_data = all_rows[: training_size]  # training data should include header row\n",
    "testing_data = all_rows[training_size: ]   # testing data don't need to include header row"
   ]
  },
  {
   "cell_type": "code",
   "execution_count": 12,
   "metadata": {},
   "outputs": [
    {
     "name": "stdout",
     "output_type": "stream",
     "text": [
      "[497 154]\n",
      "[475 176]\n",
      "[492 159]\n",
      "[483 168]\n",
      "[488 163]\n",
      "[469 182]\n",
      "[454 197]\n",
      "[495 156]\n",
      "[488 163]\n",
      "[485 166]\n",
      "Random Forest Trained! Time: 366.610s\n"
     ]
    }
   ],
   "source": [
    "# Training Random Forest\n",
    "# ===========================================================\n",
    "rand_attribute_subset_len = 5\n",
    "# for fixed_attribute in training_attribute:\n",
    "fixed_attribute = training_attribute[0]\n",
    "remaining_attribute = list(training_attribute)[: -1]  # here i should manually omit the 'CLASS' column\n",
    "remaining_attribute.remove(fixed_attribute)\n",
    "\n",
    "random_forest = []\n",
    "start = time.time()\n",
    "\n",
    "for i in range(10):\n",
    "    sys.stdout.write('\\r')\n",
    "    # the exact output you're looking for:\n",
    "    sys.stdout.write(\"Training Random Forest: [%-10s] %d%%\" % ('='*(i + 1), (i + 1) * 10))\n",
    "    sys.stdout.flush()\n",
    "    rand_attribute_subset = np.random.choice(a=remaining_attribute, size=rand_attribute_subset_len)\n",
    "    rand_attribute_subset = np.append(rand_attribute_subset, fixed_attribute)\n",
    "    training_data = bootstrapped_dataset(all_rows, training_size)\n",
    "#     print(np.bincount([row[-1] for row in training_data]))\n",
    "    tree = DecisionTree(training_attribute, rand_attribute_subset, training_data, \"CART\")\n",
    "#     tree.print_tree(tree.root)\n",
    "    random_forest.append(tree)\n",
    "end = time.time()\n",
    "print(\"Random Forest Trained! Time: %.03fs\" % (end - start))"
   ]
  },
  {
   "cell_type": "code",
   "execution_count": 13,
   "metadata": {},
   "outputs": [
    {
     "name": "stderr",
     "output_type": "stream",
     "text": [
      "/Users/frostace/anaconda3/lib/python3.7/site-packages/ipykernel_launcher.py:30: RuntimeWarning: invalid value encountered in long_scalars\n"
     ]
    }
   ],
   "source": [
    "# Testing Random Forest, Computing TN, TP, FN, FP, etc.\n",
    "# ===========================================================\n",
    "\n",
    "ROC = Table(make_array('CUTOFF', 'TN', 'FN', 'FP', 'TP', 'ACC'))\n",
    "step_size = 0.05\n",
    "forest_size = len(random_forest)\n",
    "CMap = {0: 'TN', 1: 'FN', 2: 'FP', 3: 'TP'}\n",
    "for cutoff in np.arange(0, 1 + step_size, step_size):\n",
    "    sys.stdout.write('\\r')\n",
    "    # the exact output you're looking for:\n",
    "    sys.stdout.write(\"Testing: [%-20s] %d%%\" % ('='*int(cutoff * 100 / 5), int(cutoff * 100)))\n",
    "    sys.stdout.flush()\n",
    "    \n",
    "    Confusion = {'TN': 0, 'FN': 0, 'FP': 0, 'TP': 0}\n",
    "    for row in testing_data:\n",
    "        true_rate_forest = 0\n",
    "        for tree_i in random_forest:\n",
    "            \n",
    "            # prediction is a counter of label 1 and 0\n",
    "            pred_counter = tree_i.classify(row, tree_i.root)\n",
    "            true_rate_tree = pred_counter.get(1, 0) / (pred_counter.get(1, 0) + pred_counter.get(0, 0) + 0.00000001)\n",
    "            true_rate_forest += true_rate_tree\n",
    "        true_rate_forest /= forest_size\n",
    "        true_pred = 1 if true_rate_forest >= cutoff else 0\n",
    "        indicator = (true_pred << 1) + row[-1]\n",
    "        \n",
    "        # accordingly update confusion matrix\n",
    "        Confusion[CMap[indicator]] += 1\n",
    "        \n",
    "    # concatenate the confusion matrix values into the overall ROC Table\n",
    "    thisline = [cutoff] + list(Confusion.values()) + [(Confusion['TP'] + Confusion['TN']) / sum(Confusion.values())]\n",
    "    ROC = ROC.with_row(thisline)\n",
    "ROC = ROC.with_columns('SENSITIVITY', ROC.apply(lambda TP, FN: TP / (TP + FN + 0.00000001), 'TP', 'FN'))\n",
    "ROC = ROC.with_columns('FPR', ROC.apply(lambda TN, FP: FP / (TN + FP + 0.00000001), 'TN', 'FP'))\n",
    "ROC = ROC.with_column('FMEAS', ROC.apply(lambda TP, FP, FN: 2 * (TP / (TP + FN)) * (TP / (TP + FP)) / (TP / (TP + FN) + TP / (TP + FP)), 'TP', 'FP', 'FN'))"
   ]
  },
  {
   "cell_type": "code",
   "execution_count": 14,
   "metadata": {},
   "outputs": [
    {
     "data": {
      "text/html": [
       "<table border=\"1\" class=\"dataframe\">\n",
       "    <thead>\n",
       "        <tr>\n",
       "            <th>CUTOFF</th> <th>TN</th> <th>FN</th> <th>FP</th> <th>TP</th> <th>ACC</th> <th>SENSITIVITY</th> <th>FPR</th> <th>FMEAS</th>\n",
       "        </tr>\n",
       "    </thead>\n",
       "    <tbody>\n",
       "        <tr>\n",
       "            <td>0     </td> <td>0    </td> <td>0    </td> <td>48264</td> <td>16273</td> <td>0.25215 </td> <td>1          </td> <td>1          </td> <td>0.402747   </td>\n",
       "        </tr>\n",
       "        <tr>\n",
       "            <td>0.05  </td> <td>14158</td> <td>2516 </td> <td>34106</td> <td>13757</td> <td>0.432543</td> <td>0.845388   </td> <td>0.706655   </td> <td>0.428995   </td>\n",
       "        </tr>\n",
       "        <tr>\n",
       "            <td>0.1   </td> <td>19856</td> <td>4084 </td> <td>28408</td> <td>12189</td> <td>0.496537</td> <td>0.749032   </td> <td>0.588596   </td> <td>0.428662   </td>\n",
       "        </tr>\n",
       "        <tr>\n",
       "            <td>0.15  </td> <td>30909</td> <td>6947 </td> <td>17355</td> <td>9326 </td> <td>0.623441</td> <td>0.573097   </td> <td>0.359585   </td> <td>0.434232   </td>\n",
       "        </tr>\n",
       "        <tr>\n",
       "            <td>0.2   </td> <td>35629</td> <td>9158 </td> <td>12635</td> <td>7115 </td> <td>0.662318</td> <td>0.437227   </td> <td>0.261789   </td> <td>0.395025   </td>\n",
       "        </tr>\n",
       "        <tr>\n",
       "            <td>0.25  </td> <td>41666</td> <td>11482</td> <td>6598 </td> <td>4791 </td> <td>0.719851</td> <td>0.294414   </td> <td>0.136706   </td> <td>0.346396   </td>\n",
       "        </tr>\n",
       "        <tr>\n",
       "            <td>0.3   </td> <td>44225</td> <td>13405</td> <td>4039 </td> <td>2868 </td> <td>0.729705</td> <td>0.176243   </td> <td>0.0836856  </td> <td>0.247455   </td>\n",
       "        </tr>\n",
       "        <tr>\n",
       "            <td>0.35  </td> <td>46317</td> <td>14465</td> <td>1947 </td> <td>1808 </td> <td>0.745696</td> <td>0.111104   </td> <td>0.0403406  </td> <td>0.180547   </td>\n",
       "        </tr>\n",
       "        <tr>\n",
       "            <td>0.4   </td> <td>47365</td> <td>15492</td> <td>899  </td> <td>781  </td> <td>0.746022</td> <td>0.0479936  </td> <td>0.0186267  </td> <td>0.087005   </td>\n",
       "        </tr>\n",
       "        <tr>\n",
       "            <td>0.45  </td> <td>47811</td> <td>15805</td> <td>453  </td> <td>468  </td> <td>0.748082</td> <td>0.0287593  </td> <td>0.00938588 </td> <td>0.0544376  </td>\n",
       "        </tr>\n",
       "        <tr>\n",
       "            <td>0.5   </td> <td>48115</td> <td>16152</td> <td>149  </td> <td>121  </td> <td>0.747416</td> <td>0.00743563 </td> <td>0.00308719 </td> <td>0.0146285  </td>\n",
       "        </tr>\n",
       "        <tr>\n",
       "            <td>0.55  </td> <td>48181</td> <td>16202</td> <td>83   </td> <td>71   </td> <td>0.747664</td> <td>0.00436306 </td> <td>0.00171971 </td> <td>0.00864431 </td>\n",
       "        </tr>\n",
       "        <tr>\n",
       "            <td>0.6   </td> <td>48256</td> <td>16255</td> <td>8    </td> <td>18   </td> <td>0.748005</td> <td>0.00110613 </td> <td>0.000165755</td> <td>0.00220872 </td>\n",
       "        </tr>\n",
       "        <tr>\n",
       "            <td>0.65  </td> <td>48259</td> <td>16260</td> <td>5    </td> <td>13   </td> <td>0.747974</td> <td>0.000798869</td> <td>0.000103597</td> <td>0.00159597 </td>\n",
       "        </tr>\n",
       "        <tr>\n",
       "            <td>0.7   </td> <td>48264</td> <td>16272</td> <td>0    </td> <td>1    </td> <td>0.747866</td> <td>6.14515e-05</td> <td>0          </td> <td>0.000122895</td>\n",
       "        </tr>\n",
       "        <tr>\n",
       "            <td>0.75  </td> <td>48264</td> <td>16272</td> <td>0    </td> <td>1    </td> <td>0.747866</td> <td>6.14515e-05</td> <td>0          </td> <td>0.000122895</td>\n",
       "        </tr>\n",
       "        <tr>\n",
       "            <td>0.8   </td> <td>48264</td> <td>16273</td> <td>0    </td> <td>0    </td> <td>0.74785 </td> <td>0          </td> <td>0          </td> <td>nan        </td>\n",
       "        </tr>\n",
       "        <tr>\n",
       "            <td>0.85  </td> <td>48264</td> <td>16273</td> <td>0    </td> <td>0    </td> <td>0.74785 </td> <td>0          </td> <td>0          </td> <td>nan        </td>\n",
       "        </tr>\n",
       "        <tr>\n",
       "            <td>0.9   </td> <td>48264</td> <td>16273</td> <td>0    </td> <td>0    </td> <td>0.74785 </td> <td>0          </td> <td>0          </td> <td>nan        </td>\n",
       "        </tr>\n",
       "        <tr>\n",
       "            <td>0.95  </td> <td>48264</td> <td>16273</td> <td>0    </td> <td>0    </td> <td>0.74785 </td> <td>0          </td> <td>0          </td> <td>nan        </td>\n",
       "        </tr>\n",
       "        <tr>\n",
       "            <td>1     </td> <td>48264</td> <td>16273</td> <td>0    </td> <td>0    </td> <td>0.74785 </td> <td>0          </td> <td>0          </td> <td>nan        </td>\n",
       "        </tr>\n",
       "    </tbody>\n",
       "</table>"
      ],
      "text/plain": [
       "<IPython.core.display.HTML object>"
      ]
     },
     "metadata": {},
     "output_type": "display_data"
    }
   ],
   "source": [
    "ROC.show()"
   ]
  },
  {
   "cell_type": "code",
   "execution_count": 130,
   "metadata": {},
   "outputs": [
    {
     "data": {
      "image/png": "[encoded data removed]",
      "text/plain": [
       "<Figure size 432x288 with 1 Axes>"
      ]
     },
     "metadata": {},
     "output_type": "display_data"
    }
   ],
   "source": [
    "# Acc Curve by cutoff\n",
    "# ===========================================================\n",
    "fig = plt.figure()\n",
    "plt.xlabel('Cutoff')\n",
    "plt.ylabel('Accuracy')\n",
    "plt.title('Accuracy - Cutoff of Random Forest')\n",
    "plt.plot(ROC.column('CUTOFF'), ROC.column('ACC'), color='orange')\n",
    "# plt.plot(ROC.column('CUTOFF'), ROC.column('FMEAS'), color='blue')\n",
    "# plt.legend(['Acc', 'F1-score'])\n",
    "plt.show()\n",
    "fig.savefig('Random Forest ACC.png', bbox_inches='tight')"
   ]
  },
  {
   "cell_type": "code",
   "execution_count": 110,
   "metadata": {},
   "outputs": [
    {
     "data": {
      "image/png": "[encoded data removed]",
      "text/plain": [
       "<Figure size 432x288 with 1 Axes>"
      ]
     },
     "metadata": {},
     "output_type": "display_data"
    }
   ],
   "source": [
    "# ROC_CURVE\n",
    "# ===========================================================\n",
    "fig = plt.figure()\n",
    "plt.xlabel('False Positive Rate')\n",
    "plt.ylabel('Sensitivity')\n",
    "plt.title('ROC - Curve of Random Forest')\n",
    "plt.plot(ROC.column('FPR'), ROC.column('SENSITIVITY'), color='orange')\n",
    "plt.plot(np.arange(0, 1.1, 0.1), np.arange(0, 1.1, 0.1), color='black')\n",
    "plt.legend(['Random Forest', 'Null'])\n",
    "plt.axis([0, 1, 0, 1])\n",
    "plt.show()\n",
    "fig.savefig('Random Forest ROC.png', bbox_inches='tight')"
   ]
  },
  {
   "cell_type": "code",
   "execution_count": 111,
   "metadata": {},
   "outputs": [
    {
     "name": "stdout",
     "output_type": "stream",
     "text": [
      "auc = 0.654\n"
     ]
    }
   ],
   "source": [
    "# Compute AUC\n",
    "# ===========================================================\n",
    "length = len(ROC.column('FPR'))\n",
    "auc = 0\n",
    "for i in range(length - 1):\n",
    "    auc += 0.5 * abs(ROC.column('FPR')[i + 1] - ROC.column('FPR')[i]) * (ROC.column('SENSITIVITY')[i] + ROC.column('SENSITIVITY')[i + 1])\n",
    "print(\"auc = %.03f\" %auc)"
   ]
  },
  {
   "cell_type": "code",
   "execution_count": 35,
   "metadata": {},
   "outputs": [
    {
     "name": "stdout",
     "output_type": "stream",
     "text": [
      "0.8288292241411295\n",
      "time = 131.254s\n"
     ]
    }
   ],
   "source": [
    "# Original Testing Random Forest\n",
    "# ===========================================================\n",
    "forest_acc = []\n",
    "for tree_i in random_forest:\n",
    "    accuracy = []\n",
    "    for row in training_data:\n",
    "        classification = tree_i.classify(row, tree_i.root)\n",
    "        if len(classification) == 1:\n",
    "    #         print(\"======\", row, tree.classify(row, tree.root).get(row[-1], 0))\n",
    "            accuracy.append(int(classification.get(row[-1], 0) > 0))\n",
    "        else:\n",
    "    #         print(\"======\", row, tree.classify(row, tree.root).get(row[-1], 0))\n",
    "            tot = sum(classification.values())\n",
    "            accuracy.append(classification.get(row[-1], 0) / tot)\n",
    "    forest_acc.append(sum(accuracy) / len(accuracy))\n",
    "print(np.average(forest_acc))\n",
    "end = time.time()\n",
    "print(\"time = %.03fs\" % (end - start))"
   ]
  },
  {
   "cell_type": "code",
   "execution_count": null,
   "metadata": {},
   "outputs": [],
   "source": []
  },
  {
   "cell_type": "code",
   "execution_count": null,
   "metadata": {},
   "outputs": [],
   "source": []
  },
  {
   "cell_type": "code",
   "execution_count": null,
   "metadata": {},
   "outputs": [],
   "source": []
  },
  {
   "cell_type": "code",
   "execution_count": 55,
   "metadata": {},
   "outputs": [],
   "source": [
    "# sklearn lib version\n",
    "# ===========================================================\n",
    "from sklearn.ensemble import RandomForestClassifier\n",
    "from sklearn.datasets import make_classification\n",
    "df = pd.read_csv('clinvar_conflicting_mapped.csv', low_memory=False)\n",
    "df.head()\n",
    "df = df.sample(n = df.shape[0])\n",
    "all_rows = df.values.tolist()\n",
    "row_num = len(all_rows)\n",
    "\n",
    "training_percentage = 0.01  # percent of partition of training dataset\n",
    "training_size = int(row_num * training_percentage)\n",
    "testing_size = row_num - training_size\n",
    "training_attribute = list(df.columns)\n",
    "training_data = all_rows[: training_size]  # training data should include header row\n",
    "testing_data = all_rows[training_size: ]   # testing data don't need to include header row"
   ]
  },
  {
   "cell_type": "code",
   "execution_count": 56,
   "metadata": {},
   "outputs": [
    {
     "name": "stderr",
     "output_type": "stream",
     "text": [
      "/Users/frostace/anaconda3/lib/python3.7/site-packages/sklearn/ensemble/forest.py:245: FutureWarning: The default value of n_estimators will change from 10 in version 0.20 to 100 in 0.22.\n",
      "  \"10 in version 0.20 to 100 in 0.22.\", FutureWarning)\n"
     ]
    },
    {
     "data": {
      "text/plain": [
       "RandomForestClassifier(bootstrap=True, class_weight=None, criterion='gini',\n",
       "                       max_depth=2, max_features='auto', max_leaf_nodes=None,\n",
       "                       min_impurity_decrease=0.0, min_impurity_split=None,\n",
       "                       min_samples_leaf=1, min_samples_split=2,\n",
       "                       min_weight_fraction_leaf=0.0, n_estimators=10,\n",
       "                       n_jobs=None, oob_score=False, random_state=0, verbose=0,\n",
       "                       warm_start=False)"
      ]
     },
     "execution_count": 56,
     "metadata": {},
     "output_type": "execute_result"
    }
   ],
   "source": [
    "# X, y = make_classification(n_samples=1000, n_features=4,\n",
    "#                            n_informative=2, n_redundant=0,\n",
    "#                            random_state=0, shuffle=False)\n",
    "X = [row[: -1] for row in training_data]\n",
    "Y = [row[-1] for row in training_data]\n",
    "clf = RandomForestClassifier(max_depth=2, random_state=0)\n",
    "clf.fit(X, Y)"
   ]
  },
  {
   "cell_type": "code",
   "execution_count": 57,
   "metadata": {},
   "outputs": [],
   "source": [
    "test = [row[: -1] for row in testing_data]\n",
    "actual_label = [row[-1] for row in testing_data]\n",
    "result = clf.predict(test)"
   ]
  },
  {
   "cell_type": "code",
   "execution_count": 58,
   "metadata": {},
   "outputs": [
    {
     "data": {
      "text/plain": [
       "0.7480670003253947"
      ]
     },
     "execution_count": 58,
     "metadata": {},
     "output_type": "execute_result"
    }
   ],
   "source": [
    "accuracy = 0\n",
    "for i in range(len(result)):\n",
    "    accuracy += int(result[i] == actual_label[i])\n",
    "accuracy /= len(result)\n",
    "accuracy"
   ]
  },
  {
   "cell_type": "code",
   "execution_count": 51,
   "metadata": {},
   "outputs": [],
   "source": []
  },
  {
   "cell_type": "code",
   "execution_count": null,
   "metadata": {},
   "outputs": [],
   "source": []
  },
  {
   "cell_type": "code",
   "execution_count": 74,
   "metadata": {},
   "outputs": [],
   "source": [
    "def test(p):\n",
    "    return 2 * p * (1 - p)"
   ]
  },
  {
   "cell_type": "code",
   "execution_count": 79,
   "metadata": {},
   "outputs": [
    {
     "data": {
      "text/plain": [
       "0.001998000000000002"
      ]
     },
     "execution_count": 79,
     "metadata": {},
     "output_type": "execute_result"
    }
   ],
   "source": [
    "test(0.999)"
   ]
  },
  {
   "cell_type": "code",
   "execution_count": 96,
   "metadata": {},
   "outputs": [],
   "source": [
    "# training_attribute - acc\n",
    "attribute_acc = [0.6742062692718905, 0.6754536157553033, 0.6850566341788431, 0.7187853479399414, 0.704456358368068, 0.7360932488340022, 0.6692362520724545, 0.7198041433596231, 0.6726528967878891, 0.6803306630305095, 0.6753761408184452, 0.7310651254319227, 0.7217642592621287, 0.7095270929854193, 0.7073268047786541, 0.6674039698157647, 0.7182546446224646, 0.7231936718471574, 0.7169724344174659, 0.6964764398717016, 0.7249174891922463, 0.7072841935633822, 0.6843128747850071, 0.7285239475029828, 0.6901080000619799, 0.714163967956366, 0.7057928010288672, 0.6890775834017695, 0.7248981204580318, 0.6749965136278414, 0.7111385716720642, 0.7120217859522444, 0.6904372685436262, 0.7136371383857323, 0.7124672668391775, 0.7131412987898414] \n",
    "importance = Table().with_columns('ATT', training_attribute[: -1], 'ACC', attribute_acc)"
   ]
  },
  {
   "cell_type": "code",
   "execution_count": 100,
   "metadata": {},
   "outputs": [
    {
     "data": {
      "text/html": [
       "<table border=\"1\" class=\"dataframe\">\n",
       "    <thead>\n",
       "        <tr>\n",
       "            <th>ATT</th> <th>ACC</th>\n",
       "        </tr>\n",
       "    </thead>\n",
       "    <tbody>\n",
       "        <tr>\n",
       "            <td>AF_EXAC      </td> <td>0.736093</td>\n",
       "        </tr>\n",
       "        <tr>\n",
       "            <td>CLNVI        </td> <td>0.731065</td>\n",
       "        </tr>\n",
       "        <tr>\n",
       "            <td>cDNA_position</td> <td>0.728524</td>\n",
       "        </tr>\n",
       "        <tr>\n",
       "            <td>BIOTYPE      </td> <td>0.724917</td>\n",
       "        </tr>\n",
       "        <tr>\n",
       "            <td>STRAND       </td> <td>0.724898</td>\n",
       "        </tr>\n",
       "    </tbody>\n",
       "</table>\n",
       "<p>... (31 rows omitted)</p>"
      ],
      "text/plain": [
       "<IPython.core.display.HTML object>"
      ]
     },
     "metadata": {},
     "output_type": "display_data"
    }
   ],
   "source": [
    "importance.sort('ACC', descending=True).show(5)"
   ]
  },
  {
   "cell_type": "code",
   "execution_count": 99,
   "metadata": {},
   "outputs": [
    {
     "data": {
      "image/png": "[encoded data removed]",
      "text/plain": [
       "<Figure size 432x288 with 1 Axes>"
      ]
     },
     "metadata": {},
     "output_type": "display_data"
    }
   ],
   "source": [
    "importance.bar('ATT')"
   ]
  },
  {
   "cell_type": "code",
   "execution_count": 131,
   "metadata": {},
   "outputs": [],
   "source": [
    "a, b = ROC.column('CUTOFF'), ROC.column('ACC')"
   ]
  },
  {
   "cell_type": "code",
   "execution_count": 132,
   "metadata": {},
   "outputs": [
    {
     "data": {
      "text/plain": [
       "array([0.  , 0.05, 0.1 , 0.15, 0.2 , 0.25, 0.3 , 0.35, 0.4 , 0.45, 0.5 ,\n",
       "       0.55, 0.6 , 0.65, 0.7 , 0.75, 0.8 , 0.85, 0.9 , 0.95, 1.  ])"
      ]
     },
     "execution_count": 132,
     "metadata": {},
     "output_type": "execute_result"
    }
   ],
   "source": [
    "a"
   ]
  },
  {
   "cell_type": "code",
   "execution_count": 133,
   "metadata": {},
   "outputs": [
    {
     "data": {
      "text/plain": [
       "array([0.25238235, 0.37572245, 0.50361808, 0.50361808, 0.61374095,\n",
       "       0.61374095, 0.68238375, 0.68238375, 0.72096627, 0.72096627,\n",
       "       0.74007159, 0.74007159, 0.74619211, 0.74619211, 0.74754017,\n",
       "       0.74754017, 0.74755567, 0.74755567, 0.74764864, 0.74764864,\n",
       "       0.74761765])"
      ]
     },
     "execution_count": 133,
     "metadata": {},
     "output_type": "execute_result"
    }
   ],
   "source": [
    "b"
   ]
  },
  {
   "cell_type": "code",
   "execution_count": null,
   "metadata": {},
   "outputs": [],
   "source": []
  }
 ],
 "metadata": {
  "kernelspec": {
   "display_name": "Python 3",
   "language": "python",
   "name": "python3"
  },
  "language_info": {
   "codemirror_mode": {
    "name": "ipython",
    "version": 3
   },
   "file_extension": ".py",
   "mimetype": "text/x-python",
   "name": "python",
   "nbconvert_exporter": "python",
   "pygments_lexer": "ipython3",
   "version": "3.7.3"
  }
 },
 "nbformat": 4,
 "nbformat_minor": 4
}
