{
 "cells": [
  {
   "cell_type": "code",
   "execution_count": 1,
   "metadata": {},
   "outputs": [],
   "source": [
    "# import lib\n",
    "# ===========================================================\n",
    "import csv\n",
    "import pandas as pd\n",
    "from datascience import *\n",
    "import numpy as np\n",
    "import random\n",
    "import time\n",
    "import matplotlib.pyplot as plt\n",
    "%matplotlib inline\n",
    "plt.style.use('fivethirtyeight')\n",
    "import collections\n",
    "import math\n",
    "import sys\n",
    "from tqdm import tqdm\n",
    "from time import sleep"
   ]
  },
  {
   "cell_type": "code",
   "execution_count": 2,
   "metadata": {},
   "outputs": [
    {
     "data": {
      "text/html": [
       "<div>\n",
       "<style scoped>\n",
       "    .dataframe tbody tr th:only-of-type {\n",
       "        vertical-align: middle;\n",
       "    }\n",
       "\n",
       "    .dataframe tbody tr th {\n",
       "        vertical-align: top;\n",
       "    }\n",
       "\n",
       "    .dataframe thead th {\n",
       "        text-align: right;\n",
       "    }\n",
       "</style>\n",
       "<table border=\"1\" class=\"dataframe\">\n",
       "  <thead>\n",
       "    <tr style=\"text-align: right;\">\n",
       "      <th></th>\n",
       "      <th>CHROM</th>\n",
       "      <th>POS</th>\n",
       "      <th>REF</th>\n",
       "      <th>ALT</th>\n",
       "      <th>AF_ESP</th>\n",
       "      <th>AF_EXAC</th>\n",
       "      <th>AF_TGP</th>\n",
       "      <th>CLNDISDB</th>\n",
       "      <th>CLNDN</th>\n",
       "      <th>CLNHGVS</th>\n",
       "      <th>...</th>\n",
       "      <th>Codons</th>\n",
       "      <th>STRAND</th>\n",
       "      <th>BAM_EDIT</th>\n",
       "      <th>SIFT</th>\n",
       "      <th>PolyPhen</th>\n",
       "      <th>LoFtool</th>\n",
       "      <th>CADD_PHRED</th>\n",
       "      <th>CADD_RAW</th>\n",
       "      <th>BLOSUM62</th>\n",
       "      <th>CLASS</th>\n",
       "    </tr>\n",
       "  </thead>\n",
       "  <tbody>\n",
       "    <tr>\n",
       "      <th>15551</th>\n",
       "      <td>3</td>\n",
       "      <td>189582168</td>\n",
       "      <td>C</td>\n",
       "      <td>T</td>\n",
       "      <td>0.0000</td>\n",
       "      <td>0.00000</td>\n",
       "      <td>0.0000</td>\n",
       "      <td>MedGen:C1858562,OMIM:604292|MedGen:C1863204,OM...</td>\n",
       "      <td>Ectrodactyly,_ectodermal_dysplasia,_and_cleft_...</td>\n",
       "      <td>NC_000003.11:g.189582168C&gt;T</td>\n",
       "      <td>...</td>\n",
       "      <td>Cgg/Tgg</td>\n",
       "      <td>1.0</td>\n",
       "      <td>OK</td>\n",
       "      <td>deleterious</td>\n",
       "      <td>probably_damaging</td>\n",
       "      <td>0.00668</td>\n",
       "      <td>35.000</td>\n",
       "      <td>7.677607</td>\n",
       "      <td>-3.0</td>\n",
       "      <td>0</td>\n",
       "    </tr>\n",
       "    <tr>\n",
       "      <th>7518</th>\n",
       "      <td>2</td>\n",
       "      <td>121746198</td>\n",
       "      <td>C</td>\n",
       "      <td>G</td>\n",
       "      <td>0.0000</td>\n",
       "      <td>0.00452</td>\n",
       "      <td>0.0012</td>\n",
       "      <td>Gene:3244,Human_Phenotype_Ontology:HP:0001360,...</td>\n",
       "      <td>Holoprosencephaly_sequence|not_specified</td>\n",
       "      <td>NC_000002.11:g.121746198C&gt;G</td>\n",
       "      <td>...</td>\n",
       "      <td>aCt/aGt</td>\n",
       "      <td>1.0</td>\n",
       "      <td>OK</td>\n",
       "      <td>deleterious</td>\n",
       "      <td>probably_damaging</td>\n",
       "      <td>0.34500</td>\n",
       "      <td>23.300</td>\n",
       "      <td>3.705774</td>\n",
       "      <td>1.0</td>\n",
       "      <td>1</td>\n",
       "    </tr>\n",
       "    <tr>\n",
       "      <th>55585</th>\n",
       "      <td>17</td>\n",
       "      <td>78086470</td>\n",
       "      <td>C</td>\n",
       "      <td>T</td>\n",
       "      <td>0.0002</td>\n",
       "      <td>0.00007</td>\n",
       "      <td>0.0004</td>\n",
       "      <td>MedGen:C0017921,OMIM:232300,Orphanet:ORPHA365,...</td>\n",
       "      <td>Glycogen_storage_disease,_type_II|not_specified</td>\n",
       "      <td>NC_000017.10:g.78086470C&gt;T</td>\n",
       "      <td>...</td>\n",
       "      <td>gaC/gaT</td>\n",
       "      <td>1.0</td>\n",
       "      <td>OK</td>\n",
       "      <td>0</td>\n",
       "      <td>0</td>\n",
       "      <td>0.03150</td>\n",
       "      <td>15.580</td>\n",
       "      <td>1.898446</td>\n",
       "      <td>NaN</td>\n",
       "      <td>1</td>\n",
       "    </tr>\n",
       "    <tr>\n",
       "      <th>21608</th>\n",
       "      <td>6</td>\n",
       "      <td>88227906</td>\n",
       "      <td>T</td>\n",
       "      <td>C</td>\n",
       "      <td>0.0001</td>\n",
       "      <td>0.00020</td>\n",
       "      <td>0.0002</td>\n",
       "      <td>MedGen:C1261175,SNOMED_CT:373666002|MedGen:CN1...</td>\n",
       "      <td>Pontoneocerebellar_hypoplasia|not_specified</td>\n",
       "      <td>NC_000006.11:g.88227906T&gt;C</td>\n",
       "      <td>...</td>\n",
       "      <td>Att/Gtt</td>\n",
       "      <td>-1.0</td>\n",
       "      <td>0</td>\n",
       "      <td>tolerated</td>\n",
       "      <td>benign</td>\n",
       "      <td>0.87900</td>\n",
       "      <td>4.627</td>\n",
       "      <td>0.195088</td>\n",
       "      <td>3.0</td>\n",
       "      <td>0</td>\n",
       "    </tr>\n",
       "    <tr>\n",
       "      <th>31018</th>\n",
       "      <td>10</td>\n",
       "      <td>73537978</td>\n",
       "      <td>C</td>\n",
       "      <td>T</td>\n",
       "      <td>0.1924</td>\n",
       "      <td>0.18803</td>\n",
       "      <td>0.1793</td>\n",
       "      <td>MedGen:CN033130,OMIM:500004,SNOMED_CT:57838006...</td>\n",
       "      <td>Retinitis_pigmentosa-deafness_syndrome|not_spe...</td>\n",
       "      <td>NC_000010.10:g.73537978C&gt;T</td>\n",
       "      <td>...</td>\n",
       "      <td>taC/taT</td>\n",
       "      <td>1.0</td>\n",
       "      <td>OK</td>\n",
       "      <td>0</td>\n",
       "      <td>0</td>\n",
       "      <td>0.59100</td>\n",
       "      <td>13.600</td>\n",
       "      <td>1.553625</td>\n",
       "      <td>NaN</td>\n",
       "      <td>0</td>\n",
       "    </tr>\n",
       "  </tbody>\n",
       "</table>\n",
       "<p>5 rows × 37 columns</p>\n",
       "</div>"
      ],
      "text/plain": [
       "      CHROM        POS REF ALT  AF_ESP  AF_EXAC  AF_TGP  \\\n",
       "15551     3  189582168   C   T  0.0000  0.00000  0.0000   \n",
       "7518      2  121746198   C   G  0.0000  0.00452  0.0012   \n",
       "55585    17   78086470   C   T  0.0002  0.00007  0.0004   \n",
       "21608     6   88227906   T   C  0.0001  0.00020  0.0002   \n",
       "31018    10   73537978   C   T  0.1924  0.18803  0.1793   \n",
       "\n",
       "                                                CLNDISDB  \\\n",
       "15551  MedGen:C1858562,OMIM:604292|MedGen:C1863204,OM...   \n",
       "7518   Gene:3244,Human_Phenotype_Ontology:HP:0001360,...   \n",
       "55585  MedGen:C0017921,OMIM:232300,Orphanet:ORPHA365,...   \n",
       "21608  MedGen:C1261175,SNOMED_CT:373666002|MedGen:CN1...   \n",
       "31018  MedGen:CN033130,OMIM:500004,SNOMED_CT:57838006...   \n",
       "\n",
       "                                                   CLNDN  \\\n",
       "15551  Ectrodactyly,_ectodermal_dysplasia,_and_cleft_...   \n",
       "7518            Holoprosencephaly_sequence|not_specified   \n",
       "55585    Glycogen_storage_disease,_type_II|not_specified   \n",
       "21608        Pontoneocerebellar_hypoplasia|not_specified   \n",
       "31018  Retinitis_pigmentosa-deafness_syndrome|not_spe...   \n",
       "\n",
       "                           CLNHGVS  ...   Codons STRAND BAM_EDIT         SIFT  \\\n",
       "15551  NC_000003.11:g.189582168C>T  ...  Cgg/Tgg    1.0       OK  deleterious   \n",
       "7518   NC_000002.11:g.121746198C>G  ...  aCt/aGt    1.0       OK  deleterious   \n",
       "55585   NC_000017.10:g.78086470C>T  ...  gaC/gaT    1.0       OK            0   \n",
       "21608   NC_000006.11:g.88227906T>C  ...  Att/Gtt   -1.0        0    tolerated   \n",
       "31018   NC_000010.10:g.73537978C>T  ...  taC/taT    1.0       OK            0   \n",
       "\n",
       "                PolyPhen  LoFtool CADD_PHRED  CADD_RAW BLOSUM62 CLASS  \n",
       "15551  probably_damaging  0.00668     35.000  7.677607     -3.0     0  \n",
       "7518   probably_damaging  0.34500     23.300  3.705774      1.0     1  \n",
       "55585                  0  0.03150     15.580  1.898446      NaN     1  \n",
       "21608             benign  0.87900      4.627  0.195088      3.0     0  \n",
       "31018                  0  0.59100     13.600  1.553625      NaN     0  \n",
       "\n",
       "[5 rows x 37 columns]"
      ]
     },
     "execution_count": 2,
     "metadata": {},
     "output_type": "execute_result"
    }
   ],
   "source": [
    "# Initialize useful data\n",
    "# ===========================================================\n",
    "df = pd.read_csv('clinvar_conflicting_clean.csv', low_memory=False)\n",
    "columns_to_change = ['ORIGIN', 'EXON', 'INTRON', 'STRAND', 'LoFtool', 'CADD_PHRED', 'CADD_RAW', 'BLOSUM62']\n",
    "df[['CLNVI', 'MC', 'SYMBOL', 'Feature_type', 'Feature', 'BIOTYPE', \n",
    " 'cDNA_position', 'CDS_position', 'Protein_position', 'Amino_acids', 'Codons', \n",
    " 'BAM_EDIT', 'SIFT', 'PolyPhen']] = df[['CLNVI', 'MC', 'SYMBOL', 'Feature_type', 'Feature', 'BIOTYPE', \n",
    " 'cDNA_position', 'CDS_position', 'Protein_position', 'Amino_acids', 'Codons', \n",
    " 'BAM_EDIT', 'SIFT', 'PolyPhen']].fillna(value=0)\n",
    "df_zero = df.loc[df['CLASS'] == 0]\n",
    "df_zero = df_zero.sample(n=10000)\n",
    "df_one = df.loc[df['CLASS'] == 1]\n",
    "df_one = df_one.sample(n=10000)\n",
    "\n",
    "df = pd.concat([df_zero, df_one])\n",
    "df = df.sample(n = df.shape[0])\n",
    "all_rows = df.values.tolist()\n",
    "row_num = len(all_rows)\n",
    "df.head()"
   ]
  },
  {
   "cell_type": "code",
   "execution_count": 3,
   "metadata": {},
   "outputs": [],
   "source": [
    "# Decision stump part for Random Forest\n",
    "# ===========================================================\n",
    "def is_numeric(value):\n",
    "    return isinstance(value, int) or isinstance(value, float)\n",
    "\n",
    "# === LeafNode is the prediction result of this branch ===\n",
    "class LeafNode:\n",
    "    def __init__(self, rows):\n",
    "        labels = [row[-1] for row in rows]\n",
    "        self.prediction = collections.Counter(labels)\n",
    "\n",
    "# === DecisionNode is an attribute / question used to partition the data ===\n",
    "class DecisionNode:\n",
    "    def __init__(self, question = None, left_branch = None, right_branch = None):\n",
    "        self.question = question\n",
    "        self.left_branch = left_branch\n",
    "        self.right_branch = right_branch\n",
    "    \n",
    "class DecisionTree:\n",
    "    def __init__(self, all_attribs, training_attribs, training_data, method = \"CART\"):\n",
    "        self.attribute = training_attribs     # takein attribute and data separately\n",
    "        self.train = training_data\n",
    "        self.row_num = len(self.train)\n",
    "        self.attribute_colNums = [all_attribs.index(att) for att in training_attribs]\n",
    "        self.method = method.upper()            # convert to upper case for general use\n",
    "        self.labels = self.uniq_val(-1)\n",
    "        if self.method not in [\"C4.5\", \"CART\", \"HYBRID\"]:\n",
    "            print(\"Error: Please choose a valid method!\")\n",
    "            return None\n",
    "        self.root = self.build_tree(self.train)\n",
    "    \n",
    "    def uniq_val(self, column):\n",
    "        return set([self.train[i][column] for i in range(len(self.train))])\n",
    "    \n",
    "    # === when raising a question ===\n",
    "    # if it's a categorical attribute, we simply iterate all categories\n",
    "    # if it's a numeric attribute, we iterate the set of possible numeric values \n",
    "    class Question:\n",
    "        def __init__(self, column, ref_value):\n",
    "            self.column = column\n",
    "            self.ref_value = ref_value if ref_value else \"None\"\n",
    "#             self.attri = attribute\n",
    "\n",
    "        def match(self, row):\n",
    "            if is_numeric(self.ref_value):\n",
    "                try:\n",
    "                    return row[self.column] >= self.ref_value\n",
    "                except:\n",
    "                    print(\"Error occured in \", row)\n",
    "                    return True\n",
    "            else:\n",
    "                return row[self.column] == self.ref_value\n",
    "\n",
    "        def __repr__(self):\n",
    "            operand = \">=\" if is_numeric(self.ref_value) else \"==\"\n",
    "            return \"Is %s %s %s?\" % (self.attri[self.column], operand, str(self.ref_value))\n",
    "    \n",
    "    # === Method 1 - C4.5 ===\n",
    "    def entropy(self, rows):\n",
    "        # === Bits used to store the information ===\n",
    "        labels = [row[-1] for row in rows]\n",
    "        frequency = collections.Counter(labels).values()\n",
    "        pop = sum(frequency)\n",
    "        H = 0\n",
    "        for f in frequency:\n",
    "            p = f / pop\n",
    "            H -= p * math.log(p, 2)\n",
    "        return H\n",
    "    \n",
    "    # === Method 2 - CART ===\n",
    "    def gini(self, rows):\n",
    "        # === Probability of misclassifying any of your label, which is impurity ===\n",
    "        labels = [row[-1] for row in rows]\n",
    "        frequency = collections.Counter(labels).values()\n",
    "        pop = sum(frequency)\n",
    "        gini = 1\n",
    "        for f in frequency:\n",
    "            p = f / pop\n",
    "            gini -= p ** 2\n",
    "        return gini\n",
    "    \n",
    "    # === Calculate Gain Info ===\n",
    "    # I'm actually returning the gain info reduction\n",
    "    def info(self, branches, root):\n",
    "        # === Objective: to find the best question which can maximize info ===\n",
    "        root_size = float(len(root))\n",
    "        if self.method == \"C4.5\":  # Here I pick the GainRatio Approach\n",
    "            root_uncertainty = self.entropy(root)\n",
    "            gain_info = root_uncertainty\n",
    "            split_info = 0\n",
    "            for branch in branches:\n",
    "                if not branch: continue\n",
    "                gain_info -= len(branch) / root_size * self.entropy(branch)\n",
    "                split_info -= float(len(branch)) / root_size * math.log(float(len(branch)) / root_size)\n",
    "#                 print(gain_info, split_info)\n",
    "            return gain_info / split_info\n",
    "        elif self.method == \"CART\":\n",
    "            root_uncertainty = self.gini(root)\n",
    "            gain_info = root_uncertainty\n",
    "            for branch in branches:\n",
    "                if not branch: continue\n",
    "                gain_info -= len(branch) / root_size * self.gini(branch)\n",
    "            return gain_info\n",
    "        elif self.method == \"HYBRID\":\n",
    "            pass\n",
    "        pass\n",
    "    \n",
    "    # Divide rows according to the question to true_rows and false_rows\n",
    "    # === Here I only do Binary Partitions ===\n",
    "    def partition(self, rows, question):\n",
    "        true_rows = []\n",
    "        false_rows = []\n",
    "        for row in rows:\n",
    "            if question.match(row):\n",
    "                true_rows.append(row)\n",
    "            else:\n",
    "                false_rows.append(row)\n",
    "        return true_rows, false_rows\n",
    "    \n",
    "    def find_best_question(self, rows):\n",
    "        max_info_attenuation = 0\n",
    "        best_question = self.Question(self.attribute_colNums[0], self.train[0][self.attribute_colNums[0]])\n",
    "        # === Iterate through all question candidates ===\n",
    "        # === TODO: Maybe Iteration here can be optimized ===\n",
    "        for col in self.attribute_colNums: # minus 1 to avoid using the label as attribute\n",
    "            ref_candidates = self.uniq_val(col)\n",
    "            for ref_value in ref_candidates:\n",
    "                if ref_value == \"null\" or not isinstance(ref_value, str) and np.isnan(ref_value): continue # avoid using null values to generate a question\n",
    "                q = self.Question(col, ref_value)\n",
    "                temp_true_rows, temp_false_rows = self.partition(rows, q)\n",
    "                temp_info_attenuation = self.info([temp_true_rows, temp_false_rows], rows)\n",
    "                if temp_info_attenuation >= max_info_attenuation:\n",
    "                    max_info_attenuation = temp_info_attenuation\n",
    "                    best_question = q\n",
    "        return max_info_attenuation, best_question\n",
    "    \n",
    "    # === Input rows of data with attributes and labels ===\n",
    "    def build_tree(self, rows):\n",
    "        # === Assign all rows as root of the whole decision tree ===\n",
    "        # === We have met the leaf node if gini(rows) is 0 or no question candidates left ===\n",
    "        gain_reduction, q = self.find_best_question(rows)\n",
    "        # gain here is actually info reduction\n",
    "#         if gain_reduction <= 0.001:\n",
    "        if self.gini(rows) <= 0.25:\n",
    "            return LeafNode(rows)\n",
    "        true_rows, false_rows = self.partition(rows, q)\n",
    "        # === Recursion after we have found a optimal question ===\n",
    "        return DecisionNode(q, self.build_tree(true_rows), self.build_tree(false_rows))\n",
    "    \n",
    "    # === Input a row of data with attributes (and no label), predict its label with our decision tree ===\n",
    "    # === Actually it can contain a label, we just don't use it ===\n",
    "    # === walk down the decision tree until we reach the leaf node ===\n",
    "    def classify(self, row, node):\n",
    "        if isinstance(node, LeafNode):\n",
    "#             print(\"===\", node.prediction)\n",
    "            return node.prediction\n",
    "        \n",
    "        if node.question.match(row):\n",
    "#             print(node.question, True)\n",
    "            return self.classify(row, node.left_branch)\n",
    "        else:\n",
    "#             print(node.question, False)\n",
    "            return self.classify(row, node.right_branch)\n",
    "    \n",
    "    def print_tree(self, node, spacing=\"\"):\n",
    "        # Base case: we've reached a leaf\n",
    "        if isinstance(node, LeafNode):\n",
    "            print (spacing + \"Predict\", node.prediction)\n",
    "            return\n",
    "\n",
    "        # Print the question at this node\n",
    "        print (spacing + str(node.question))\n",
    "\n",
    "        # Call this function recursively on the true branch\n",
    "        print (spacing + '--> True:')\n",
    "        self.print_tree(node.left_branch, spacing + \"  \")\n",
    "\n",
    "        # Call this function recursively on the false branch\n",
    "        print (spacing + '--> False:')\n",
    "        self.print_tree(node.right_branch, spacing + \"  \")\n",
    "    \n",
    "'''    def test(self):\n",
    "        for i in range(self.column_num):\n",
    "            q = self.Question(i, self.train[1][i], self.attribute)\n",
    "            print(q)\n",
    "            print(q.match(1))'''\n",
    "    \n",
    "def bootstrapped_dataset(rows, size):\n",
    "    n = len(rows)\n",
    "    bootstrapped_rows = []\n",
    "    # here i should pick rand_idx with replacement, which is bootstrapping\n",
    "    rand_idx = np.random.choice(n, size, replace=True)\n",
    "    for i in rand_idx:\n",
    "        bootstrapped_rows.append(rows[i])\n",
    "    return bootstrapped_rows"
   ]
  },
  {
   "cell_type": "code",
   "execution_count": 5,
   "metadata": {},
   "outputs": [],
   "source": [
    "# Divide whole dataset into training set and testing set\n",
    "# ===========================================================\n",
    "training_percentage = 0.001  # percent of partition of training dataset\n",
    "training_size = int(row_num * training_percentage)\n",
    "testing_size = row_num - training_size\n",
    "training_attribute = list(df.columns)\n",
    "training_data = all_rows[: training_size]  # training data should include header row\n",
    "testing_data = all_rows[training_size: ]   # testing data don't need to include header row"
   ]
  },
  {
   "cell_type": "code",
   "execution_count": 6,
   "metadata": {},
   "outputs": [
    {
     "name": "stdout",
     "output_type": "stream",
     "text": [
      "Training Random Forest: [==========] 100%\n",
      "Random Forest Trained! Time: 0.006s\n"
     ]
    }
   ],
   "source": [
    "# Training Random Forest\n",
    "# ===========================================================\n",
    "rand_attribute_subset_len = 1 #15\n",
    "# for fixed_attribute in training_attribute:\n",
    "fixed_attribute = training_attribute[0]\n",
    "remaining_attribute = list(training_attribute)[: -1]  # here i should manually omit the 'CLASS' column\n",
    "# remaining_attribute.remove(fixed_attribute)\n",
    "\n",
    "forest_size = 1 #100\n",
    "random_forest = []\n",
    "start = time.time()\n",
    "\n",
    "for i in range(forest_size):\n",
    "    sys.stdout.write('\\r')\n",
    "    # the exact output you're looking for:\n",
    "    sys.stdout.write(\"Training Random Forest: [%-10s] %d%%\" % ('='*int((i + 1) / forest_size * 10), int((i + 1) / forest_size * 100)))\n",
    "    sys.stdout.flush()\n",
    "    rand_attribute_subset = np.random.choice(a=remaining_attribute, size=rand_attribute_subset_len)\n",
    "#     rand_attribute_subset = np.append(rand_attribute_subset, fixed_attribute)\n",
    "    training_data = bootstrapped_dataset(all_rows, training_size)\n",
    "#     print(np.bincount([row[-1] for row in training_data]))\n",
    "    tree = DecisionTree(training_attribute, rand_attribute_subset, training_data, \"CART\")\n",
    "#     tree.print_tree(tree.root)\n",
    "    random_forest.append(tree)\n",
    "end = time.time()\n",
    "print(\"\\nRandom Forest Trained! Time: %.03fs\" % (end - start))"
   ]
  },
  {
   "cell_type": "code",
   "execution_count": 52,
   "metadata": {},
   "outputs": [
    {
     "name": "stdout",
     "output_type": "stream",
     "text": [
      "Testing: [====================] 100%"
     ]
    },
    {
     "name": "stderr",
     "output_type": "stream",
     "text": [
      "/Users/frostace/anaconda3/lib/python3.7/site-packages/ipykernel_launcher.py:35: RuntimeWarning: invalid value encountered in long_scalars\n"
     ]
    }
   ],
   "source": [
    "# Testing Random Forest, Computing TN, TP, FN, FP, etc.\n",
    "# ===========================================================\n",
    "\n",
    "ROC = Table(make_array('CUTOFF', 'TN', 'FN', 'FP', 'TP', 'ACC'))\n",
    "step_size = 0.05\n",
    "forest_size = len(random_forest)\n",
    "CMap = {0: 'TN', 1: 'FN', 2: 'FP', 3: 'TP'}\n",
    "for cutoff in np.arange(0, 1 + step_size, step_size):\n",
    "    sys.stdout.write('\\r')\n",
    "    # the exact output you're looking for:\n",
    "    sys.stdout.write(\"Testing: [%-20s] %d%%\" % ('='*int(cutoff * 100 / 5), int(cutoff * 100)))\n",
    "    sys.stdout.flush()\n",
    "    \n",
    "    Confusion = {'TN': 0, 'FN': 0, 'FP': 0, 'TP': 0}\n",
    "    for row in testing_data:\n",
    "        true_rate_forest = 0\n",
    "        for tree_i in random_forest:\n",
    "            \n",
    "            # prediction is a counter of label 1 and 0\n",
    "            pred_counter = tree_i.classify(row, tree_i.root)\n",
    "            true_rate_tree = pred_counter.get(1, 0) / (pred_counter.get(1, 0) + pred_counter.get(0, 0) + 0.00000001)\n",
    "            true_rate_forest += true_rate_tree\n",
    "        true_rate_forest /= forest_size\n",
    "        true_pred = 1 if true_rate_forest >= cutoff else 0\n",
    "        indicator = (true_pred << 1) + row[-1]\n",
    "        \n",
    "        # accordingly update confusion matrix\n",
    "        Confusion[CMap[indicator]] += 1\n",
    "        \n",
    "    # concatenate the confusion matrix values into the overall ROC Table\n",
    "    thisline = [cutoff] + list(Confusion.values()) + [(Confusion['TP'] + Confusion['TN']) / sum(Confusion.values())]\n",
    "    ROC = ROC.with_row(thisline)\n",
    "ROC = ROC.with_columns('SENSITIVITY', ROC.apply(lambda TP, FN: TP / (TP + FN + 0.00000001), 'TP', 'FN'))\n",
    "ROC = ROC.with_columns('FPR', ROC.apply(lambda TN, FP: FP / (TN + FP + 0.00000001), 'TN', 'FP'))\n",
    "ROC = ROC.with_column('FMEAS', ROC.apply(lambda TP, FP, FN: 2 * (TP / (TP + FN)) * (TP / (TP + FP)) / (TP / (TP + FN) + TP / (TP + FP)), 'TP', 'FP', 'FN'))"
   ]
  },
  {
   "cell_type": "code",
   "execution_count": 53,
   "metadata": {},
   "outputs": [
    {
     "data": {
      "text/html": [
       "<table border=\"1\" class=\"dataframe\">\n",
       "    <thead>\n",
       "        <tr>\n",
       "            <th>CUTOFF</th> <th>TN</th> <th>FN</th> <th>FP</th> <th>TP</th> <th>ACC</th> <th>SENSITIVITY</th> <th>FPR</th> <th>FMEAS</th>\n",
       "        </tr>\n",
       "    </thead>\n",
       "    <tbody>\n",
       "        <tr>\n",
       "            <td>0     </td> <td>0   </td> <td>0   </td> <td>9896</td> <td>9904</td> <td>0.500202</td> <td>1          </td> <td>1         </td> <td>0.666846   </td>\n",
       "        </tr>\n",
       "        <tr>\n",
       "            <td>0.05  </td> <td>0   </td> <td>0   </td> <td>9896</td> <td>9904</td> <td>0.500202</td> <td>1          </td> <td>1         </td> <td>0.666846   </td>\n",
       "        </tr>\n",
       "        <tr>\n",
       "            <td>0.1   </td> <td>0   </td> <td>0   </td> <td>9896</td> <td>9904</td> <td>0.500202</td> <td>1          </td> <td>1         </td> <td>0.666846   </td>\n",
       "        </tr>\n",
       "        <tr>\n",
       "            <td>0.15  </td> <td>22  </td> <td>0   </td> <td>9874</td> <td>9904</td> <td>0.501313</td> <td>1          </td> <td>0.997777  </td> <td>0.66734    </td>\n",
       "        </tr>\n",
       "        <tr>\n",
       "            <td>0.2   </td> <td>412 </td> <td>12  </td> <td>9484</td> <td>9892</td> <td>0.520404</td> <td>0.998788   </td> <td>0.958367  </td> <td>0.675683   </td>\n",
       "        </tr>\n",
       "        <tr>\n",
       "            <td>0.25  </td> <td>986 </td> <td>59  </td> <td>8910</td> <td>9845</td> <td>0.54702 </td> <td>0.994043   </td> <td>0.900364  </td> <td>0.687044   </td>\n",
       "        </tr>\n",
       "        <tr>\n",
       "            <td>0.3   </td> <td>1410</td> <td>124 </td> <td>8486</td> <td>9780</td> <td>0.565152</td> <td>0.98748    </td> <td>0.857518  </td> <td>0.694356   </td>\n",
       "        </tr>\n",
       "        <tr>\n",
       "            <td>0.35  </td> <td>2212</td> <td>249 </td> <td>7684</td> <td>9655</td> <td>0.599343</td> <td>0.974859   </td> <td>0.776475  </td> <td>0.708806   </td>\n",
       "        </tr>\n",
       "        <tr>\n",
       "            <td>0.4   </td> <td>3440</td> <td>646 </td> <td>6456</td> <td>9258</td> <td>0.641313</td> <td>0.934774   </td> <td>0.652385  </td> <td>0.722773   </td>\n",
       "        </tr>\n",
       "        <tr>\n",
       "            <td>0.45  </td> <td>5014</td> <td>1495</td> <td>4882</td> <td>8409</td> <td>0.677929</td> <td>0.849051   </td> <td>0.493331  </td> <td>0.72507    </td>\n",
       "        </tr>\n",
       "        <tr>\n",
       "            <td>0.5   </td> <td>6371</td> <td>2688</td> <td>3525</td> <td>7216</td> <td>0.686212</td> <td>0.728595   </td> <td>0.356205  </td> <td>0.699055   </td>\n",
       "        </tr>\n",
       "        <tr>\n",
       "            <td>0.55  </td> <td>7415</td> <td>3989</td> <td>2481</td> <td>5915</td> <td>0.673232</td> <td>0.597233   </td> <td>0.250707  </td> <td>0.646448   </td>\n",
       "        </tr>\n",
       "        <tr>\n",
       "            <td>0.6   </td> <td>8249</td> <td>5351</td> <td>1647</td> <td>4553</td> <td>0.646566</td> <td>0.459713   </td> <td>0.166431  </td> <td>0.56545    </td>\n",
       "        </tr>\n",
       "        <tr>\n",
       "            <td>0.65  </td> <td>9096</td> <td>7234</td> <td>800 </td> <td>2670</td> <td>0.594242</td> <td>0.269588   </td> <td>0.0808407 </td> <td>0.399282   </td>\n",
       "        </tr>\n",
       "        <tr>\n",
       "            <td>0.7   </td> <td>9683</td> <td>9078</td> <td>213 </td> <td>826 </td> <td>0.530758</td> <td>0.0834006  </td> <td>0.0215238 </td> <td>0.150964   </td>\n",
       "        </tr>\n",
       "        <tr>\n",
       "            <td>0.75  </td> <td>9882</td> <td>9838</td> <td>14  </td> <td>66  </td> <td>0.502424</td> <td>0.00666397 </td> <td>0.00141471</td> <td>0.0132212  </td>\n",
       "        </tr>\n",
       "        <tr>\n",
       "            <td>0.8   </td> <td>9896</td> <td>9903</td> <td>0   </td> <td>1   </td> <td>0.499848</td> <td>0.000100969</td> <td>0         </td> <td>0.000201918</td>\n",
       "        </tr>\n",
       "        <tr>\n",
       "            <td>0.85  </td> <td>9896</td> <td>9904</td> <td>0   </td> <td>0   </td> <td>0.499798</td> <td>0          </td> <td>0         </td> <td>nan        </td>\n",
       "        </tr>\n",
       "        <tr>\n",
       "            <td>0.9   </td> <td>9896</td> <td>9904</td> <td>0   </td> <td>0   </td> <td>0.499798</td> <td>0          </td> <td>0         </td> <td>nan        </td>\n",
       "        </tr>\n",
       "        <tr>\n",
       "            <td>0.95  </td> <td>9896</td> <td>9904</td> <td>0   </td> <td>0   </td> <td>0.499798</td> <td>0          </td> <td>0         </td> <td>nan        </td>\n",
       "        </tr>\n",
       "        <tr>\n",
       "            <td>1     </td> <td>9896</td> <td>9904</td> <td>0   </td> <td>0   </td> <td>0.499798</td> <td>0          </td> <td>0         </td> <td>nan        </td>\n",
       "        </tr>\n",
       "    </tbody>\n",
       "</table>"
      ],
      "text/plain": [
       "<IPython.core.display.HTML object>"
      ]
     },
     "metadata": {},
     "output_type": "display_data"
    }
   ],
   "source": [
    "ROC.show()"
   ]
  },
  {
   "cell_type": "code",
   "execution_count": 57,
   "metadata": {},
   "outputs": [
    {
     "data": {
      "image/png": "[encoded data removed]",
      "text/plain": [
       "<Figure size 432x288 with 1 Axes>"
      ]
     },
     "metadata": {},
     "output_type": "display_data"
    }
   ],
   "source": [
    "# Acc Curve by cutoff\n",
    "# ===========================================================\n",
    "fig = plt.figure()\n",
    "plt.xlabel('Cutoff')\n",
    "plt.ylabel('Accuracy')\n",
    "plt.title('Accuracy - Cutoff of Random Forest')\n",
    "plt.plot(np.arange(0, 1.1, 0.1), [0.5 for i in np.arange(0, 1.1, 0.1)], color='black')\n",
    "plt.plot(ROC.column('CUTOFF'), ROC.column('ACC'), color='orange')\n",
    "# plt.plot(ROC.column('CUTOFF'), ROC.column('FMEAS'), color='blue')\n",
    "# plt.legend(['Acc', 'F1-score'])\n",
    "plt.axis([0, 1, 0, 1.1])\n",
    "plt.show()\n",
    "fig.savefig('Random Forest ACC.png', bbox_inches='tight')"
   ]
  },
  {
   "cell_type": "code",
   "execution_count": 58,
   "metadata": {},
   "outputs": [
    {
     "data": {
      "image/png": "[encoded data removed]",
      "text/plain": [
       "<Figure size 432x288 with 1 Axes>"
      ]
     },
     "metadata": {},
     "output_type": "display_data"
    }
   ],
   "source": [
    "# ROC_CURVE\n",
    "# ===========================================================\n",
    "fig = plt.figure()\n",
    "plt.xlabel('False Positive Rate')\n",
    "plt.ylabel('Sensitivity')\n",
    "plt.title('ROC - Curve of Random Forest')\n",
    "plt.plot(np.arange(0, 1.1, 0.1), np.arange(0, 1.1, 0.1), color='black')\n",
    "plt.plot(ROC.column('FPR'), ROC.column('SENSITIVITY'), color='orange')\n",
    "plt.legend(['Random Forest', 'Null'])\n",
    "plt.axis([0, 1, 0, 1.1])\n",
    "plt.show()\n",
    "fig.savefig('Random Forest ROC.png', bbox_inches='tight')"
   ]
  },
  {
   "cell_type": "code",
   "execution_count": 56,
   "metadata": {},
   "outputs": [
    {
     "name": "stdout",
     "output_type": "stream",
     "text": [
      "auc = 0.747\n"
     ]
    }
   ],
   "source": [
    "# Compute AUC\n",
    "# ===========================================================\n",
    "length = len(ROC.column('FPR'))\n",
    "auc = 0\n",
    "for i in range(length - 1):\n",
    "    auc += 0.5 * abs(ROC.column('FPR')[i + 1] - ROC.column('FPR')[i]) * (ROC.column('SENSITIVITY')[i] + ROC.column('SENSITIVITY')[i + 1])\n",
    "print(\"auc = %.03f\" %auc)"
   ]
  },
  {
   "cell_type": "code",
   "execution_count": 35,
   "metadata": {},
   "outputs": [
    {
     "name": "stdout",
     "output_type": "stream",
     "text": [
      "0.8288292241411295\n",
      "time = 131.254s\n"
     ]
    }
   ],
   "source": [
    "# Original Testing Random Forest\n",
    "# ===========================================================\n",
    "forest_acc = []\n",
    "for tree_i in random_forest:\n",
    "    accuracy = []\n",
    "    for row in training_data:\n",
    "        classification = tree_i.classify(row, tree_i.root)\n",
    "        if len(classification) == 1:\n",
    "    #         print(\"======\", row, tree.classify(row, tree.root).get(row[-1], 0))\n",
    "            accuracy.append(int(classification.get(row[-1], 0) > 0))\n",
    "        else:\n",
    "    #         print(\"======\", row, tree.classify(row, tree.root).get(row[-1], 0))\n",
    "            tot = sum(classification.values())\n",
    "            accuracy.append(classification.get(row[-1], 0) / tot)\n",
    "    forest_acc.append(sum(accuracy) / len(accuracy))\n",
    "print(np.average(forest_acc))\n",
    "end = time.time()\n",
    "print(\"time = %.03fs\" % (end - start))"
   ]
  },
  {
   "cell_type": "code",
   "execution_count": null,
   "metadata": {},
   "outputs": [],
   "source": []
  },
  {
   "cell_type": "code",
   "execution_count": null,
   "metadata": {},
   "outputs": [],
   "source": []
  },
  {
   "cell_type": "code",
   "execution_count": null,
   "metadata": {},
   "outputs": [],
   "source": []
  },
  {
   "cell_type": "code",
   "execution_count": 55,
   "metadata": {},
   "outputs": [],
   "source": [
    "# sklearn lib version\n",
    "# ===========================================================\n",
    "from sklearn.ensemble import RandomForestClassifier\n",
    "from sklearn.datasets import make_classification\n",
    "df = pd.read_csv('clinvar_conflicting_mapped.csv', low_memory=False)\n",
    "df.head()\n",
    "df = df.sample(n = df.shape[0])\n",
    "all_rows = df.values.tolist()\n",
    "row_num = len(all_rows)\n",
    "\n",
    "training_percentage = 0.01  # percent of partition of training dataset\n",
    "training_size = int(row_num * training_percentage)\n",
    "testing_size = row_num - training_size\n",
    "training_attribute = list(df.columns)\n",
    "training_data = all_rows[: training_size]  # training data should include header row\n",
    "testing_data = all_rows[training_size: ]   # testing data don't need to include header row"
   ]
  },
  {
   "cell_type": "code",
   "execution_count": 56,
   "metadata": {},
   "outputs": [
    {
     "name": "stderr",
     "output_type": "stream",
     "text": [
      "/Users/frostace/anaconda3/lib/python3.7/site-packages/sklearn/ensemble/forest.py:245: FutureWarning: The default value of n_estimators will change from 10 in version 0.20 to 100 in 0.22.\n",
      "  \"10 in version 0.20 to 100 in 0.22.\", FutureWarning)\n"
     ]
    },
    {
     "data": {
      "text/plain": [
       "RandomForestClassifier(bootstrap=True, class_weight=None, criterion='gini',\n",
       "                       max_depth=2, max_features='auto', max_leaf_nodes=None,\n",
       "                       min_impurity_decrease=0.0, min_impurity_split=None,\n",
       "                       min_samples_leaf=1, min_samples_split=2,\n",
       "                       min_weight_fraction_leaf=0.0, n_estimators=10,\n",
       "                       n_jobs=None, oob_score=False, random_state=0, verbose=0,\n",
       "                       warm_start=False)"
      ]
     },
     "execution_count": 56,
     "metadata": {},
     "output_type": "execute_result"
    }
   ],
   "source": [
    "# X, y = make_classification(n_samples=1000, n_features=4,\n",
    "#                            n_informative=2, n_redundant=0,\n",
    "#                            random_state=0, shuffle=False)\n",
    "X = [row[: -1] for row in training_data]\n",
    "Y = [row[-1] for row in training_data]\n",
    "clf = RandomForestClassifier(max_depth=2, random_state=0)\n",
    "clf.fit(X, Y)"
   ]
  },
  {
   "cell_type": "code",
   "execution_count": 57,
   "metadata": {},
   "outputs": [],
   "source": [
    "test = [row[: -1] for row in testing_data]\n",
    "actual_label = [row[-1] for row in testing_data]\n",
    "result = clf.predict(test)"
   ]
  },
  {
   "cell_type": "code",
   "execution_count": 58,
   "metadata": {},
   "outputs": [
    {
     "data": {
      "text/plain": [
       "0.7480670003253947"
      ]
     },
     "execution_count": 58,
     "metadata": {},
     "output_type": "execute_result"
    }
   ],
   "source": [
    "accuracy = 0\n",
    "for i in range(len(result)):\n",
    "    accuracy += int(result[i] == actual_label[i])\n",
    "accuracy /= len(result)\n",
    "accuracy"
   ]
  },
  {
   "cell_type": "code",
   "execution_count": 51,
   "metadata": {},
   "outputs": [],
   "source": []
  },
  {
   "cell_type": "code",
   "execution_count": null,
   "metadata": {},
   "outputs": [],
   "source": []
  },
  {
   "cell_type": "code",
   "execution_count": 74,
   "metadata": {},
   "outputs": [],
   "source": [
    "def test(p):\n",
    "    return 2 * p * (1 - p)"
   ]
  },
  {
   "cell_type": "code",
   "execution_count": 79,
   "metadata": {},
   "outputs": [
    {
     "data": {
      "text/plain": [
       "0.001998000000000002"
      ]
     },
     "execution_count": 79,
     "metadata": {},
     "output_type": "execute_result"
    }
   ],
   "source": [
    "test(0.999)"
   ]
  },
  {
   "cell_type": "code",
   "execution_count": 96,
   "metadata": {},
   "outputs": [],
   "source": [
    "# training_attribute - acc\n",
    "attribute_acc = [0.6742062692718905, 0.6754536157553033, 0.6850566341788431, 0.7187853479399414, 0.704456358368068, 0.7360932488340022, 0.6692362520724545, 0.7198041433596231, 0.6726528967878891, 0.6803306630305095, 0.6753761408184452, 0.7310651254319227, 0.7217642592621287, 0.7095270929854193, 0.7073268047786541, 0.6674039698157647, 0.7182546446224646, 0.7231936718471574, 0.7169724344174659, 0.6964764398717016, 0.7249174891922463, 0.7072841935633822, 0.6843128747850071, 0.7285239475029828, 0.6901080000619799, 0.714163967956366, 0.7057928010288672, 0.6890775834017695, 0.7248981204580318, 0.6749965136278414, 0.7111385716720642, 0.7120217859522444, 0.6904372685436262, 0.7136371383857323, 0.7124672668391775, 0.7131412987898414] \n",
    "importance = Table().with_columns('ATT', training_attribute[: -1], 'ACC', attribute_acc)"
   ]
  },
  {
   "cell_type": "code",
   "execution_count": 100,
   "metadata": {},
   "outputs": [
    {
     "data": {
      "text/html": [
       "<table border=\"1\" class=\"dataframe\">\n",
       "    <thead>\n",
       "        <tr>\n",
       "            <th>ATT</th> <th>ACC</th>\n",
       "        </tr>\n",
       "    </thead>\n",
       "    <tbody>\n",
       "        <tr>\n",
       "            <td>AF_EXAC      </td> <td>0.736093</td>\n",
       "        </tr>\n",
       "        <tr>\n",
       "            <td>CLNVI        </td> <td>0.731065</td>\n",
       "        </tr>\n",
       "        <tr>\n",
       "            <td>cDNA_position</td> <td>0.728524</td>\n",
       "        </tr>\n",
       "        <tr>\n",
       "            <td>BIOTYPE      </td> <td>0.724917</td>\n",
       "        </tr>\n",
       "        <tr>\n",
       "            <td>STRAND       </td> <td>0.724898</td>\n",
       "        </tr>\n",
       "    </tbody>\n",
       "</table>\n",
       "<p>... (31 rows omitted)</p>"
      ],
      "text/plain": [
       "<IPython.core.display.HTML object>"
      ]
     },
     "metadata": {},
     "output_type": "display_data"
    }
   ],
   "source": [
    "importance.sort('ACC', descending=True).show(5)"
   ]
  },
  {
   "cell_type": "code",
   "execution_count": 99,
   "metadata": {},
   "outputs": [
    {
     "data": {
      "image/png": "[encoded data removed]",
      "text/plain": [
       "<Figure size 432x288 with 1 Axes>"
      ]
     },
     "metadata": {},
     "output_type": "display_data"
    }
   ],
   "source": [
    "importance.bar('ATT')"
   ]
  },
  {
   "cell_type": "code",
   "execution_count": 48,
   "metadata": {},
   "outputs": [],
   "source": [
    "a, b = ROC.column('FPR'), ROC.column('SENSITIVITY')"
   ]
  },
  {
   "cell_type": "code",
   "execution_count": 49,
   "metadata": {},
   "outputs": [
    {
     "data": {
      "text/plain": [
       "array([1.00000000e+00, 1.00000000e+00, 9.99595796e-01, 9.84033953e-01,\n",
       "       9.28556993e-01, 8.67825384e-01, 8.14167340e-01, 7.39894907e-01,\n",
       "       6.29951496e-01, 4.84033953e-01, 3.53678254e-01, 2.43835893e-01,\n",
       "       1.54203719e-01, 7.97291835e-02, 2.84963622e-02, 6.16410671e-03,\n",
       "       8.08407437e-04, 1.01050930e-04, 0.00000000e+00, 0.00000000e+00,\n",
       "       0.00000000e+00])"
      ]
     },
     "execution_count": 49,
     "metadata": {},
     "output_type": "execute_result"
    }
   ],
   "source": [
    "a"
   ]
  },
  {
   "cell_type": "code",
   "execution_count": 50,
   "metadata": {},
   "outputs": [
    {
     "data": {
      "text/plain": [
       "array([1.        , 1.        , 1.        , 0.99939418, 0.99717286,\n",
       "       0.99182149, 0.98172456, 0.96001616, 0.91659935, 0.83542003,\n",
       "       0.72294023, 0.58531906, 0.43033118, 0.25424071, 0.10288772,\n",
       "       0.0217084 , 0.0013126 , 0.        , 0.        , 0.        ,\n",
       "       0.        ])"
      ]
     },
     "execution_count": 50,
     "metadata": {},
     "output_type": "execute_result"
    }
   ],
   "source": [
    "b"
   ]
  },
  {
   "cell_type": "code",
   "execution_count": null,
   "metadata": {},
   "outputs": [],
   "source": []
  }
 ],
 "metadata": {
  "kernelspec": {
   "display_name": "Python 3",
   "language": "python",
   "name": "python3"
  },
  "language_info": {
   "codemirror_mode": {
    "name": "ipython",
    "version": 3
   },
   "file_extension": ".py",
   "mimetype": "text/x-python",
   "name": "python",
   "nbconvert_exporter": "python",
   "pygments_lexer": "ipython3",
   "version": "3.7.3"
  }
 },
 "nbformat": 4,
 "nbformat_minor": 4
}
